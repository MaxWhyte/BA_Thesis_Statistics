{
 "cells": [
  {
   "cell_type": "code",
   "execution_count": 1,
   "metadata": {},
   "outputs": [
    {
     "name": "stderr",
     "output_type": "stream",
     "text": [
      "/opt/anaconda3/lib/python3.7/site-packages/pandas_datareader/compat/__init__.py:7: FutureWarning: pandas.util.testing is deprecated. Use the functions in the public API at pandas.testing instead.\n",
      "  from pandas.util.testing import assert_frame_equal\n"
     ]
    }
   ],
   "source": [
    "from pandas_datareader import data as web\n",
    "import datetime as dt\n",
    "import matplotlib.pyplot as plt\n",
    "from matplotlib import style"
   ]
  },
  {
   "cell_type": "code",
   "execution_count": 2,
   "metadata": {},
   "outputs": [],
   "source": [
    "#Grabbing the data from Yahoo-API\n",
    "start = dt.datetime(2019,1,1)\n",
    "end = dt.datetime(2019,12,31)\n",
    "\n",
    "df = web.DataReader(\"AAPL\", \"yahoo\", start, end)"
   ]
  },
  {
   "cell_type": "code",
   "execution_count": 3,
   "metadata": {},
   "outputs": [
    {
     "data": {
      "text/html": [
       "<div>\n",
       "<style scoped>\n",
       "    .dataframe tbody tr th:only-of-type {\n",
       "        vertical-align: middle;\n",
       "    }\n",
       "\n",
       "    .dataframe tbody tr th {\n",
       "        vertical-align: top;\n",
       "    }\n",
       "\n",
       "    .dataframe thead th {\n",
       "        text-align: right;\n",
       "    }\n",
       "</style>\n",
       "<table border=\"1\" class=\"dataframe\">\n",
       "  <thead>\n",
       "    <tr style=\"text-align: right;\">\n",
       "      <th></th>\n",
       "      <th>High</th>\n",
       "      <th>Low</th>\n",
       "      <th>Open</th>\n",
       "      <th>Close</th>\n",
       "      <th>Volume</th>\n",
       "      <th>Adj Close</th>\n",
       "    </tr>\n",
       "    <tr>\n",
       "      <th>Date</th>\n",
       "      <th></th>\n",
       "      <th></th>\n",
       "      <th></th>\n",
       "      <th></th>\n",
       "      <th></th>\n",
       "      <th></th>\n",
       "    </tr>\n",
       "  </thead>\n",
       "  <tbody>\n",
       "    <tr>\n",
       "      <th>2019-01-02</th>\n",
       "      <td>158.850006</td>\n",
       "      <td>154.229996</td>\n",
       "      <td>154.889999</td>\n",
       "      <td>157.919998</td>\n",
       "      <td>37039700.0</td>\n",
       "      <td>154.794983</td>\n",
       "    </tr>\n",
       "    <tr>\n",
       "      <th>2019-01-03</th>\n",
       "      <td>145.720001</td>\n",
       "      <td>142.000000</td>\n",
       "      <td>143.979996</td>\n",
       "      <td>142.190002</td>\n",
       "      <td>91312200.0</td>\n",
       "      <td>139.376251</td>\n",
       "    </tr>\n",
       "    <tr>\n",
       "      <th>2019-01-04</th>\n",
       "      <td>148.550003</td>\n",
       "      <td>143.800003</td>\n",
       "      <td>144.529999</td>\n",
       "      <td>148.259995</td>\n",
       "      <td>58607100.0</td>\n",
       "      <td>145.326126</td>\n",
       "    </tr>\n",
       "    <tr>\n",
       "      <th>2019-01-07</th>\n",
       "      <td>148.830002</td>\n",
       "      <td>145.899994</td>\n",
       "      <td>148.699997</td>\n",
       "      <td>147.929993</td>\n",
       "      <td>54777800.0</td>\n",
       "      <td>145.002686</td>\n",
       "    </tr>\n",
       "    <tr>\n",
       "      <th>2019-01-08</th>\n",
       "      <td>151.820007</td>\n",
       "      <td>148.520004</td>\n",
       "      <td>149.559998</td>\n",
       "      <td>150.750000</td>\n",
       "      <td>41025300.0</td>\n",
       "      <td>147.766861</td>\n",
       "    </tr>\n",
       "  </tbody>\n",
       "</table>\n",
       "</div>"
      ],
      "text/plain": [
       "                  High         Low        Open       Close      Volume  \\\n",
       "Date                                                                     \n",
       "2019-01-02  158.850006  154.229996  154.889999  157.919998  37039700.0   \n",
       "2019-01-03  145.720001  142.000000  143.979996  142.190002  91312200.0   \n",
       "2019-01-04  148.550003  143.800003  144.529999  148.259995  58607100.0   \n",
       "2019-01-07  148.830002  145.899994  148.699997  147.929993  54777800.0   \n",
       "2019-01-08  151.820007  148.520004  149.559998  150.750000  41025300.0   \n",
       "\n",
       "             Adj Close  \n",
       "Date                    \n",
       "2019-01-02  154.794983  \n",
       "2019-01-03  139.376251  \n",
       "2019-01-04  145.326126  \n",
       "2019-01-07  145.002686  \n",
       "2019-01-08  147.766861  "
      ]
     },
     "execution_count": 3,
     "metadata": {},
     "output_type": "execute_result"
    }
   ],
   "source": [
    "#Sanity Checks\n",
    "df.head()"
   ]
  },
  {
   "cell_type": "code",
   "execution_count": 4,
   "metadata": {},
   "outputs": [
    {
     "data": {
      "text/html": [
       "<div>\n",
       "<style scoped>\n",
       "    .dataframe tbody tr th:only-of-type {\n",
       "        vertical-align: middle;\n",
       "    }\n",
       "\n",
       "    .dataframe tbody tr th {\n",
       "        vertical-align: top;\n",
       "    }\n",
       "\n",
       "    .dataframe thead th {\n",
       "        text-align: right;\n",
       "    }\n",
       "</style>\n",
       "<table border=\"1\" class=\"dataframe\">\n",
       "  <thead>\n",
       "    <tr style=\"text-align: right;\">\n",
       "      <th></th>\n",
       "      <th>High</th>\n",
       "      <th>Low</th>\n",
       "      <th>Open</th>\n",
       "      <th>Close</th>\n",
       "      <th>Volume</th>\n",
       "      <th>Adj Close</th>\n",
       "    </tr>\n",
       "    <tr>\n",
       "      <th>Date</th>\n",
       "      <th></th>\n",
       "      <th></th>\n",
       "      <th></th>\n",
       "      <th></th>\n",
       "      <th></th>\n",
       "      <th></th>\n",
       "    </tr>\n",
       "  </thead>\n",
       "  <tbody>\n",
       "    <tr>\n",
       "      <th>2019-12-24</th>\n",
       "      <td>284.890015</td>\n",
       "      <td>282.920013</td>\n",
       "      <td>284.690002</td>\n",
       "      <td>284.269989</td>\n",
       "      <td>12119700.0</td>\n",
       "      <td>282.831299</td>\n",
       "    </tr>\n",
       "    <tr>\n",
       "      <th>2019-12-26</th>\n",
       "      <td>289.980011</td>\n",
       "      <td>284.700012</td>\n",
       "      <td>284.820007</td>\n",
       "      <td>289.910004</td>\n",
       "      <td>23280300.0</td>\n",
       "      <td>288.442780</td>\n",
       "    </tr>\n",
       "    <tr>\n",
       "      <th>2019-12-27</th>\n",
       "      <td>293.970001</td>\n",
       "      <td>288.119995</td>\n",
       "      <td>291.119995</td>\n",
       "      <td>289.799988</td>\n",
       "      <td>36566500.0</td>\n",
       "      <td>288.333313</td>\n",
       "    </tr>\n",
       "    <tr>\n",
       "      <th>2019-12-30</th>\n",
       "      <td>292.690002</td>\n",
       "      <td>285.220001</td>\n",
       "      <td>289.459991</td>\n",
       "      <td>291.519989</td>\n",
       "      <td>36028600.0</td>\n",
       "      <td>290.044617</td>\n",
       "    </tr>\n",
       "    <tr>\n",
       "      <th>2019-12-31</th>\n",
       "      <td>293.679993</td>\n",
       "      <td>289.519989</td>\n",
       "      <td>289.929993</td>\n",
       "      <td>293.649994</td>\n",
       "      <td>25201400.0</td>\n",
       "      <td>292.163818</td>\n",
       "    </tr>\n",
       "  </tbody>\n",
       "</table>\n",
       "</div>"
      ],
      "text/plain": [
       "                  High         Low        Open       Close      Volume  \\\n",
       "Date                                                                     \n",
       "2019-12-24  284.890015  282.920013  284.690002  284.269989  12119700.0   \n",
       "2019-12-26  289.980011  284.700012  284.820007  289.910004  23280300.0   \n",
       "2019-12-27  293.970001  288.119995  291.119995  289.799988  36566500.0   \n",
       "2019-12-30  292.690002  285.220001  289.459991  291.519989  36028600.0   \n",
       "2019-12-31  293.679993  289.519989  289.929993  293.649994  25201400.0   \n",
       "\n",
       "             Adj Close  \n",
       "Date                    \n",
       "2019-12-24  282.831299  \n",
       "2019-12-26  288.442780  \n",
       "2019-12-27  288.333313  \n",
       "2019-12-30  290.044617  \n",
       "2019-12-31  292.163818  "
      ]
     },
     "execution_count": 4,
     "metadata": {},
     "output_type": "execute_result"
    }
   ],
   "source": [
    "df.tail()"
   ]
  },
  {
   "cell_type": "code",
   "execution_count": 5,
   "metadata": {},
   "outputs": [
    {
     "data": {
      "text/plain": [
       "142.19000244140625"
      ]
     },
     "execution_count": 5,
     "metadata": {},
     "output_type": "execute_result"
    }
   ],
   "source": [
    "df[\"Close\"][\"2019-01-03\"]"
   ]
  },
  {
   "cell_type": "code",
   "execution_count": 6,
   "metadata": {},
   "outputs": [
    {
     "data": {
      "text/plain": [
       "142.19000244140625"
      ]
     },
     "execution_count": 6,
     "metadata": {},
     "output_type": "execute_result"
    }
   ],
   "source": [
    "df[\"Close\"][1]"
   ]
  },
  {
   "cell_type": "code",
   "execution_count": 7,
   "metadata": {},
   "outputs": [],
   "source": [
    "#Save data as csv\n",
    "df.to_csv(\"stock_data.csv\", sep=\",\")"
   ]
  },
  {
   "cell_type": "code",
   "execution_count": 10,
   "metadata": {},
   "outputs": [
    {
     "data": {
      "image/png": "[encoded data removed]",
      "text/plain": [
       "<Figure size 576x396 with 1 Axes>"
      ]
     },
     "metadata": {},
     "output_type": "display_data"
    }
   ],
   "source": [
    "#Data cleaning and crafting SMAs\n",
    "df.dropna(inplace=True)\n",
    "df[\"100ma\"] = df[\"Adj Close\"].rolling(window = 100, min_periods = 0).mean()\n",
    "df[\"25ma\"] = df[\"Adj Close\"].rolling(window = 25, min_periods = 0).mean()\n",
    "\n",
    "#Plotting\n",
    "df[\"Adj Close\"].plot()\n",
    "df[\"100ma\"].plot()\n",
    "df[\"25ma\"].plot()\n",
    "style.use(\"seaborn\")\n",
    "plt.grid(True)\n",
    "plt.show()"
   ]
  },
  {
   "cell_type": "code",
   "execution_count": 11,
   "metadata": {},
   "outputs": [
    {
     "data": {
      "text/html": [
       "<div>\n",
       "<style scoped>\n",
       "    .dataframe tbody tr th:only-of-type {\n",
       "        vertical-align: middle;\n",
       "    }\n",
       "\n",
       "    .dataframe tbody tr th {\n",
       "        vertical-align: top;\n",
       "    }\n",
       "\n",
       "    .dataframe thead th {\n",
       "        text-align: right;\n",
       "    }\n",
       "</style>\n",
       "<table border=\"1\" class=\"dataframe\">\n",
       "  <thead>\n",
       "    <tr style=\"text-align: right;\">\n",
       "      <th></th>\n",
       "      <th>High</th>\n",
       "      <th>Low</th>\n",
       "      <th>Open</th>\n",
       "      <th>Close</th>\n",
       "      <th>Volume</th>\n",
       "      <th>Adj Close</th>\n",
       "      <th>100ma</th>\n",
       "      <th>25ma</th>\n",
       "    </tr>\n",
       "    <tr>\n",
       "      <th>Date</th>\n",
       "      <th></th>\n",
       "      <th></th>\n",
       "      <th></th>\n",
       "      <th></th>\n",
       "      <th></th>\n",
       "      <th></th>\n",
       "      <th></th>\n",
       "      <th></th>\n",
       "    </tr>\n",
       "  </thead>\n",
       "  <tbody>\n",
       "    <tr>\n",
       "      <th>2019-05-24</th>\n",
       "      <td>182.139999</td>\n",
       "      <td>178.619995</td>\n",
       "      <td>180.199997</td>\n",
       "      <td>178.970001</td>\n",
       "      <td>23714700.0</td>\n",
       "      <td>176.859283</td>\n",
       "      <td>176.859283</td>\n",
       "      <td>176.859283</td>\n",
       "    </tr>\n",
       "    <tr>\n",
       "      <th>2019-05-28</th>\n",
       "      <td>180.589996</td>\n",
       "      <td>177.910004</td>\n",
       "      <td>178.919998</td>\n",
       "      <td>178.229996</td>\n",
       "      <td>27948200.0</td>\n",
       "      <td>176.128006</td>\n",
       "      <td>176.493645</td>\n",
       "      <td>176.493645</td>\n",
       "    </tr>\n",
       "    <tr>\n",
       "      <th>2019-05-29</th>\n",
       "      <td>179.350006</td>\n",
       "      <td>176.000000</td>\n",
       "      <td>176.419998</td>\n",
       "      <td>177.380005</td>\n",
       "      <td>28481200.0</td>\n",
       "      <td>175.288025</td>\n",
       "      <td>176.091771</td>\n",
       "      <td>176.091771</td>\n",
       "    </tr>\n",
       "    <tr>\n",
       "      <th>2019-05-30</th>\n",
       "      <td>179.229996</td>\n",
       "      <td>176.669998</td>\n",
       "      <td>177.949997</td>\n",
       "      <td>178.300003</td>\n",
       "      <td>21218400.0</td>\n",
       "      <td>176.197189</td>\n",
       "      <td>176.118126</td>\n",
       "      <td>176.118126</td>\n",
       "    </tr>\n",
       "    <tr>\n",
       "      <th>2019-05-31</th>\n",
       "      <td>177.990005</td>\n",
       "      <td>174.990005</td>\n",
       "      <td>176.229996</td>\n",
       "      <td>175.070007</td>\n",
       "      <td>27043600.0</td>\n",
       "      <td>173.005280</td>\n",
       "      <td>175.495557</td>\n",
       "      <td>175.495557</td>\n",
       "    </tr>\n",
       "  </tbody>\n",
       "</table>\n",
       "</div>"
      ],
      "text/plain": [
       "                  High         Low        Open       Close      Volume  \\\n",
       "Date                                                                     \n",
       "2019-05-24  182.139999  178.619995  180.199997  178.970001  23714700.0   \n",
       "2019-05-28  180.589996  177.910004  178.919998  178.229996  27948200.0   \n",
       "2019-05-29  179.350006  176.000000  176.419998  177.380005  28481200.0   \n",
       "2019-05-30  179.229996  176.669998  177.949997  178.300003  21218400.0   \n",
       "2019-05-31  177.990005  174.990005  176.229996  175.070007  27043600.0   \n",
       "\n",
       "             Adj Close       100ma        25ma  \n",
       "Date                                            \n",
       "2019-05-24  176.859283  176.859283  176.859283  \n",
       "2019-05-28  176.128006  176.493645  176.493645  \n",
       "2019-05-29  175.288025  176.091771  176.091771  \n",
       "2019-05-30  176.197189  176.118126  176.118126  \n",
       "2019-05-31  173.005280  175.495557  175.495557  "
      ]
     },
     "execution_count": 11,
     "metadata": {},
     "output_type": "execute_result"
    }
   ],
   "source": [
    "df.head()"
   ]
  },
  {
   "cell_type": "code",
   "execution_count": 13,
   "metadata": {},
   "outputs": [],
   "source": [
    "df[\"Change\"] = ((df[\"Close\"] - df[\"Open\"]) / df[\"Open\"]) * 100"
   ]
  },
  {
   "cell_type": "code",
   "execution_count": 14,
   "metadata": {},
   "outputs": [],
   "source": [
    "df[\"Volatility\"] = (df[\"High\"] - df[\"Low\"]) / df[\"Close\"]"
   ]
  },
  {
   "cell_type": "code",
   "execution_count": 15,
   "metadata": {},
   "outputs": [
    {
     "data": {
      "text/html": [
       "<div>\n",
       "<style scoped>\n",
       "    .dataframe tbody tr th:only-of-type {\n",
       "        vertical-align: middle;\n",
       "    }\n",
       "\n",
       "    .dataframe tbody tr th {\n",
       "        vertical-align: top;\n",
       "    }\n",
       "\n",
       "    .dataframe thead th {\n",
       "        text-align: right;\n",
       "    }\n",
       "</style>\n",
       "<table border=\"1\" class=\"dataframe\">\n",
       "  <thead>\n",
       "    <tr style=\"text-align: right;\">\n",
       "      <th></th>\n",
       "      <th>High</th>\n",
       "      <th>Low</th>\n",
       "      <th>Open</th>\n",
       "      <th>Close</th>\n",
       "      <th>Volume</th>\n",
       "      <th>Adj Close</th>\n",
       "      <th>100ma</th>\n",
       "      <th>25ma</th>\n",
       "      <th>Change</th>\n",
       "      <th>Volatility</th>\n",
       "    </tr>\n",
       "    <tr>\n",
       "      <th>Date</th>\n",
       "      <th></th>\n",
       "      <th></th>\n",
       "      <th></th>\n",
       "      <th></th>\n",
       "      <th></th>\n",
       "      <th></th>\n",
       "      <th></th>\n",
       "      <th></th>\n",
       "      <th></th>\n",
       "      <th></th>\n",
       "    </tr>\n",
       "  </thead>\n",
       "  <tbody>\n",
       "    <tr>\n",
       "      <th>2019-05-24</th>\n",
       "      <td>182.139999</td>\n",
       "      <td>178.619995</td>\n",
       "      <td>180.199997</td>\n",
       "      <td>178.970001</td>\n",
       "      <td>23714700.0</td>\n",
       "      <td>176.859283</td>\n",
       "      <td>176.859283</td>\n",
       "      <td>176.859283</td>\n",
       "      <td>-0.682573</td>\n",
       "      <td>0.019668</td>\n",
       "    </tr>\n",
       "    <tr>\n",
       "      <th>2019-05-28</th>\n",
       "      <td>180.589996</td>\n",
       "      <td>177.910004</td>\n",
       "      <td>178.919998</td>\n",
       "      <td>178.229996</td>\n",
       "      <td>27948200.0</td>\n",
       "      <td>176.128006</td>\n",
       "      <td>176.493645</td>\n",
       "      <td>176.493645</td>\n",
       "      <td>-0.385649</td>\n",
       "      <td>0.015037</td>\n",
       "    </tr>\n",
       "    <tr>\n",
       "      <th>2019-05-29</th>\n",
       "      <td>179.350006</td>\n",
       "      <td>176.000000</td>\n",
       "      <td>176.419998</td>\n",
       "      <td>177.380005</td>\n",
       "      <td>28481200.0</td>\n",
       "      <td>175.288025</td>\n",
       "      <td>176.091771</td>\n",
       "      <td>176.091771</td>\n",
       "      <td>0.544160</td>\n",
       "      <td>0.018886</td>\n",
       "    </tr>\n",
       "    <tr>\n",
       "      <th>2019-05-30</th>\n",
       "      <td>179.229996</td>\n",
       "      <td>176.669998</td>\n",
       "      <td>177.949997</td>\n",
       "      <td>178.300003</td>\n",
       "      <td>21218400.0</td>\n",
       "      <td>176.197189</td>\n",
       "      <td>176.118126</td>\n",
       "      <td>176.118126</td>\n",
       "      <td>0.196688</td>\n",
       "      <td>0.014358</td>\n",
       "    </tr>\n",
       "    <tr>\n",
       "      <th>2019-05-31</th>\n",
       "      <td>177.990005</td>\n",
       "      <td>174.990005</td>\n",
       "      <td>176.229996</td>\n",
       "      <td>175.070007</td>\n",
       "      <td>27043600.0</td>\n",
       "      <td>173.005280</td>\n",
       "      <td>175.495557</td>\n",
       "      <td>175.495557</td>\n",
       "      <td>-0.658224</td>\n",
       "      <td>0.017136</td>\n",
       "    </tr>\n",
       "  </tbody>\n",
       "</table>\n",
       "</div>"
      ],
      "text/plain": [
       "                  High         Low        Open       Close      Volume  \\\n",
       "Date                                                                     \n",
       "2019-05-24  182.139999  178.619995  180.199997  178.970001  23714700.0   \n",
       "2019-05-28  180.589996  177.910004  178.919998  178.229996  27948200.0   \n",
       "2019-05-29  179.350006  176.000000  176.419998  177.380005  28481200.0   \n",
       "2019-05-30  179.229996  176.669998  177.949997  178.300003  21218400.0   \n",
       "2019-05-31  177.990005  174.990005  176.229996  175.070007  27043600.0   \n",
       "\n",
       "             Adj Close       100ma        25ma    Change  Volatility  \n",
       "Date                                                                  \n",
       "2019-05-24  176.859283  176.859283  176.859283 -0.682573    0.019668  \n",
       "2019-05-28  176.128006  176.493645  176.493645 -0.385649    0.015037  \n",
       "2019-05-29  175.288025  176.091771  176.091771  0.544160    0.018886  \n",
       "2019-05-30  176.197189  176.118126  176.118126  0.196688    0.014358  \n",
       "2019-05-31  173.005280  175.495557  175.495557 -0.658224    0.017136  "
      ]
     },
     "execution_count": 15,
     "metadata": {},
     "output_type": "execute_result"
    }
   ],
   "source": [
    "df.head()"
   ]
  },
  {
   "cell_type": "code",
   "execution_count": 36,
   "metadata": {},
   "outputs": [
    {
     "data": {
      "text/plain": [
       "<BarContainer object of 153 artists>"
      ]
     },
     "execution_count": 36,
     "metadata": {},
     "output_type": "execute_result"
    },
    {
     "data": {
      "image/png": "[encoded data removed]",
      "text/plain": [
       "<Figure size 576x396 with 3 Axes>"
      ]
     },
     "metadata": {},
     "output_type": "display_data"
    }
   ],
   "source": [
    "# Adding Subplots\n",
    "ax1 = plt.subplot2grid((8,1), (0,0), rowspan=4, colspan=1) # window size, start position, plot size (4 x 1)\n",
    "ax2 = plt.subplot2grid((8,1), (4,0), rowspan=2, colspan=1, sharex=ax1) #...both plots have same axis (2 x 1)\n",
    "ax3 = plt.subplot2grid((8,1), (6,0), rowspan=2, colspan=1, sharex=ax1) #...both plots have same axis (2 x 1)\n",
    "\n",
    "ax1.plot(df.index, df[\"Adj Close\"])\n",
    "ax1.plot(df.index, df[\"100ma\"])\n",
    "ax2.plot(df.index, df[\"Change\"])\n",
    "ax3.bar(df.index, df[\"Volatility\"])"
   ]
  },
  {
   "cell_type": "code",
   "execution_count": null,
   "metadata": {},
   "outputs": [],
   "source": []
  }
 ],
 "metadata": {
  "kernelspec": {
   "display_name": "Python 3",
   "language": "python",
   "name": "python3"
  },
  "language_info": {
   "codemirror_mode": {
    "name": "ipython",
    "version": 3
   },
   "file_extension": ".py",
   "mimetype": "text/x-python",
   "name": "python",
   "nbconvert_exporter": "python",
   "pygments_lexer": "ipython3",
   "version": "3.7.6"
  }
 },
 "nbformat": 4,
 "nbformat_minor": 4
}

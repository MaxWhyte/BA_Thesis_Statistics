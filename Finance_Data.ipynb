{
 "cells": [
  {
   "cell_type": "code",
   "execution_count": 1,
   "metadata": {},
   "outputs": [
    {
     "name": "stderr",
     "output_type": "stream",
     "text": [
      "/opt/anaconda3/lib/python3.7/site-packages/pandas_datareader/compat/__init__.py:7: FutureWarning: pandas.util.testing is deprecated. Use the functions in the public API at pandas.testing instead.\n",
      "  from pandas.util.testing import assert_frame_equal\n"
     ]
    }
   ],
   "source": [
    "from pandas_datareader import data as web\n",
    "import pandas as pd\n",
    "import datetime as dt\n",
    "import matplotlib.pyplot as plt\n",
    "from matplotlib import style\n",
    "import matplotlib.dates as mdates\n",
    "from mpl_finance import candlestick_ohlc\n",
    "import os"
   ]
  },
  {
   "cell_type": "code",
   "execution_count": null,
   "metadata": {},
   "outputs": [],
   "source": [
    "#Grabbing the data from Yahoo-API\n",
    "start = dt.datetime(2016,1,1)\n",
    "end = dt.datetime(2019,12,31)\n",
    "\n",
    "df = web.DataReader(\"AAPL\", \"yahoo\", start, end)"
   ]
  },
  {
   "cell_type": "code",
   "execution_count": null,
   "metadata": {},
   "outputs": [],
   "source": [
    "#Or read the csv file from disk\n",
    "df = pd.read_csv(\"stock_data.csv\", sep=\",\", index_col = 0) #set \"Date\" column as index and convert to datetime\n",
    "df.index = pd.to_datetime(df.index)"
   ]
  },
  {
   "cell_type": "code",
   "execution_count": null,
   "metadata": {},
   "outputs": [],
   "source": [
    "#Sanity Checks\n",
    "df.head()"
   ]
  },
  {
   "cell_type": "code",
   "execution_count": null,
   "metadata": {},
   "outputs": [],
   "source": [
    "df.tail()"
   ]
  },
  {
   "cell_type": "code",
   "execution_count": null,
   "metadata": {},
   "outputs": [],
   "source": [
    "df[\"Close\"][\"2016-01-05\"]"
   ]
  },
  {
   "cell_type": "code",
   "execution_count": null,
   "metadata": {},
   "outputs": [],
   "source": [
    "df[\"Close\"][1]"
   ]
  },
  {
   "cell_type": "code",
   "execution_count": null,
   "metadata": {},
   "outputs": [],
   "source": [
    "#Save data as csv\n",
    "df.to_csv(\"stock_data.csv\", sep=\",\")"
   ]
  },
  {
   "cell_type": "code",
   "execution_count": null,
   "metadata": {},
   "outputs": [],
   "source": [
    "#Data cleaning and crafting SMAs\n",
    "df.dropna(inplace=True)\n",
    "df[\"100ma\"] = df[\"Adj Close\"].rolling(window = 100, min_periods = 0).mean()\n",
    "df[\"25ma\"] = df[\"Adj Close\"].rolling(window = 25, min_periods = 0).mean()\n",
    "\n",
    "#Plotting\n",
    "df[\"Adj Close\"].plot()\n",
    "df[\"100ma\"].plot()\n",
    "df[\"25ma\"].plot()\n",
    "style.use(\"seaborn\")\n",
    "plt.grid(True)\n",
    "plt.show()"
   ]
  },
  {
   "cell_type": "code",
   "execution_count": null,
   "metadata": {},
   "outputs": [],
   "source": [
    "df.head()"
   ]
  },
  {
   "cell_type": "code",
   "execution_count": null,
   "metadata": {},
   "outputs": [],
   "source": [
    "df[\"ChangePct\"] = ((df[\"Close\"] - df[\"Open\"]) / df[\"Open\"]) * 100"
   ]
  },
  {
   "cell_type": "code",
   "execution_count": null,
   "metadata": {},
   "outputs": [],
   "source": [
    "df[\"ChangePts\"] = (df[\"Close\"] - df[\"Open\"])"
   ]
  },
  {
   "cell_type": "code",
   "execution_count": null,
   "metadata": {},
   "outputs": [],
   "source": [
    "df[\"VolatilityPct\"] = (df[\"High\"] - df[\"Low\"]) / df[\"Close\"] * 100"
   ]
  },
  {
   "cell_type": "code",
   "execution_count": null,
   "metadata": {},
   "outputs": [],
   "source": [
    "df.head()"
   ]
  },
  {
   "cell_type": "code",
   "execution_count": null,
   "metadata": {},
   "outputs": [],
   "source": [
    "# Adding Subplots\n",
    "ax1 = plt.subplot2grid((8,1), (0,0), rowspan=4, colspan=1) # window size, start position, plot size (4 x 1)\n",
    "ax2 = plt.subplot2grid((8,1), (4,0), rowspan=1, colspan=1, sharex=ax1) #...both plots have same axis (1 x 1)\n",
    "ax3 = plt.subplot2grid((8,1), (6,0), rowspan=1, colspan=1, sharex=ax1) #...both plots have same axis (1 x 1)\n",
    "ax4 = plt.subplot2grid((8,1), (7,0), rowspan=1, colspan=1, sharex=ax1) #...both plots have same axis (1 x 1)\n",
    "\n",
    "ax1.plot(df.index, df[\"Adj Close\"])\n",
    "ax1.plot(df.index, df[\"100ma\"])\n",
    "ax2.plot(df.index, df[\"ChangePts\"])\n",
    "ax3.bar(df.index, df[\"VolatilityPct\"])\n",
    "ax4.plot(df.index, df[\"ChangePct\"])"
   ]
  },
  {
   "cell_type": "markdown",
   "metadata": {},
   "source": [
    "### Candlestick Charts"
   ]
  },
  {
   "cell_type": "code",
   "execution_count": null,
   "metadata": {},
   "outputs": [],
   "source": [
    "df_ohlc = df[\"Adj Close\"].resample(\"10D\").ohlc()"
   ]
  },
  {
   "cell_type": "code",
   "execution_count": null,
   "metadata": {},
   "outputs": [],
   "source": [
    "df_ohlc.head()"
   ]
  },
  {
   "cell_type": "code",
   "execution_count": null,
   "metadata": {},
   "outputs": [],
   "source": [
    "df_volume = df[\"Volume\"].resample(\"10D\").sum()"
   ]
  },
  {
   "cell_type": "code",
   "execution_count": null,
   "metadata": {},
   "outputs": [],
   "source": [
    "df_volume.head()"
   ]
  },
  {
   "cell_type": "code",
   "execution_count": null,
   "metadata": {},
   "outputs": [],
   "source": [
    "df_ohlc.reset_index(inplace=True) #mpl_finance can't work with datetime, therefore: create empty index\n",
    "df_ohlc[\"Date\"] = df_ohlc[\"Date\"].map(mdates.date2num) # and map each real Date to a numeric Date number"
   ]
  },
  {
   "cell_type": "code",
   "execution_count": null,
   "metadata": {},
   "outputs": [],
   "source": [
    "df_ohlc.head()"
   ]
  },
  {
   "cell_type": "code",
   "execution_count": null,
   "metadata": {},
   "outputs": [],
   "source": [
    "ax1 = plt.subplot2grid((6,1), (0,0), rowspan=5, colspan=1) # window size, start position, plot size (5 x 1)\n",
    "ax2 = plt.subplot2grid((6,1), (5,0), rowspan=1, colspan=1, sharex=ax1) #...both plots have same axis (1 x 1)\n",
    "ax1.xaxis_date() # plots date on x-axis \n",
    "candlestick_ohlc(ax1, df_ohlc.values, width=8, colorup=\"g\", colordown=\"r\") #creates the candlesticks\n",
    "\n",
    "ax2.fill_between(df_volume.index.map(mdates.date2num), df_volume.values) # converted dates as index, volume as y-axis\n",
    "ax1.grid(True, color=\"lightgray\") #changes gridcolor\n",
    "plt.show()"
   ]
  },
  {
   "cell_type": "markdown",
   "metadata": {},
   "source": [
    "### Webscraping"
   ]
  },
  {
   "cell_type": "code",
   "execution_count": 2,
   "metadata": {},
   "outputs": [],
   "source": [
    "#Load ticker names\n",
    "import bs4 as bs\n",
    "import requests\n",
    "import pickle\n",
    "\n",
    "def lade_sp500_ticker():\n",
    "    response = requests.get(\"https://en.wikipedia.org/wiki/list_of_S%26P_500_companies\") #get sourcecode\n",
    "    soup = bs.BeautifulSoup(response.text, \"lxml\")\n",
    "    \n",
    "    tabelle = soup.find(\"table\")\n",
    "    tickers = []\n",
    "    \n",
    "    for reihe in tabelle.findAll(\"tr\")[1:]:\n",
    "        ticker = reihe.findAll(\"td\")[0].text.rstrip(\"\\n\")\n",
    "        tickers.append(ticker)\n",
    "    with open(\"sp500tickers.pickle\", \"wb\") as f: #serializes ticker data into pickle file\n",
    "        pickle.dump(tickers, f)\n",
    "    return tickers\n",
    "\n",
    "\n",
    "#lade_sp500_ticker()"
   ]
  },
  {
   "cell_type": "code",
   "execution_count": 3,
   "metadata": {},
   "outputs": [],
   "source": [
    "#Load prices from yahoo\n",
    "def lade_preise_von_yahoo(ticker_neuladen=False):\n",
    "    if ticker_neuladen:\n",
    "        tickers = lade_sp500_ticker() #loads ticker names again from wikipedia\n",
    "    else:\n",
    "        with open (\"sp500tickers\", \"rb\") as f: #grabs existing ticker names from local folder\n",
    "            tickers = pickle.load(f)\n",
    "\n",
    "    if not os.path.exists(\"kursdaten\"): #creates new folder if not already existing\n",
    "        os.makedirs(\"kursdaten\")\n",
    "    \n",
    "    start = dt.datetime(2010,1,1)\n",
    "    end = dt.datetime(2019,12,31)\n",
    "\n",
    "    for ticker in tickers:\n",
    "        if not os.path.exists(\"kursdaten/{}.csv\".format(ticker)):\n",
    "            print(\"{} wird geladen...\".format(ticker))\n",
    "            try:\n",
    "                df = web.DataReader(ticker, \"yahoo\", start, end)\n",
    "                df.to_csv(\"kursdaten/{}.csv\".format(ticker))\n",
    "            except:\n",
    "                print(\"{} nicht vorhanden.\".format(ticker))\n",
    "        else:\n",
    "            print(\"{} bereits vorhanden!\".format(ticker))\n"
   ]
  },
  {
   "cell_type": "code",
   "execution_count": 8,
   "metadata": {},
   "outputs": [],
   "source": [
    "#combine all csv into one big file\n",
    "def daten_kompilieren():\n",
    "    with open(\"sp500tickers.pickle\", \"rb\") as f:\n",
    "        tickers = pickle.load(f)\n",
    "    main_df = pd.DataFrame()\n",
    "    \n",
    "    print(\"Daten werden kompiliert...\")\n",
    "    for ticker in tickers:\n",
    "        try:\n",
    "            df = pd.read_csv(\"kursdaten/{}.csv\".format(ticker))\n",
    "            df.set_index(\"Date\", inplace=True)\n",
    "        \n",
    "            df.rename(columns = {\"Adj Close\": ticker}, inplace=True)\n",
    "            df.drop([\"Open\",\"High\",\"Low\",\"Close\",\"Volume\"], 1, inplace=True)\n",
    "        except:\n",
    "            pass\n",
    "        if main_df.empty:\n",
    "            main_df = df\n",
    "        else:\n",
    "            try:\n",
    "                main_df = main_df.join(df, how=\"outer\")\n",
    "            except:\n",
    "                pass\n",
    "            \n",
    "    main_df.to_csv(\"sp500_daten.csv\")\n",
    "    print(\"Daten kompiliert.\")"
   ]
  },
  {
   "cell_type": "code",
   "execution_count": 9,
   "metadata": {},
   "outputs": [
    {
     "name": "stdout",
     "output_type": "stream",
     "text": [
      "Daten werden kompiliert...\n",
      "Daten kompiliert.\n"
     ]
    }
   ],
   "source": [
    "#lade_preise_von_yahoo(ticker_neuladen=True)\n",
    "daten_kompilieren()"
   ]
  },
  {
   "cell_type": "markdown",
   "metadata": {},
   "source": [
    "### Visuals"
   ]
  },
  {
   "cell_type": "code",
   "execution_count": 11,
   "metadata": {},
   "outputs": [
    {
     "data": {
      "image/png": "[encoded data removed]",
      "text/plain": [
       "<Figure size 432x288 with 1 Axes>"
      ]
     },
     "metadata": {
      "needs_background": "light"
     },
     "output_type": "display_data"
    }
   ],
   "source": [
    "sp500 = pd.read_csv(\"sp500_daten.csv\")\n",
    "sp500[\"MSFT\"].plot()\n",
    "plt.show()"
   ]
  },
  {
   "cell_type": "code",
   "execution_count": 13,
   "metadata": {},
   "outputs": [
    {
     "name": "stdout",
     "output_type": "stream",
     "text": [
      "           MMM       ABT      ABBV      ABMD       ACN      ATVI      ADBE  \\\n",
      "MMM   1.000000  0.822141  0.911094  0.825415  0.891598  0.929977  0.826965   \n",
      "ABT   0.822141  1.000000  0.789407  0.842906  0.966075  0.805016  0.967697   \n",
      "ABBV  0.911094  0.789407  1.000000  0.878404  0.862537  0.904558  0.858206   \n",
      "ABMD  0.825415  0.842906  0.878404  1.000000  0.875561  0.895261  0.915947   \n",
      "ACN   0.891598  0.966075  0.862537  0.875561  1.000000  0.898829  0.970270   \n",
      "...        ...       ...       ...       ...       ...       ...       ...   \n",
      "YUM   0.840670  0.975739  0.794911  0.838859  0.974264  0.830900  0.957171   \n",
      "ZBRA  0.775197  0.975091  0.774365  0.833410  0.934803  0.772920  0.962316   \n",
      "ZBH   0.914795  0.851013  0.730304  0.695784  0.885174  0.820399  0.799144   \n",
      "ZION  0.897179  0.865129  0.906291  0.891769  0.909198  0.918842  0.914727   \n",
      "ZTS   0.689016  0.976971  0.806100  0.800460  0.975624  0.741559  0.976433   \n",
      "\n",
      "           AMD       AAP       AES  ...      WYNN       XEL       XRX  \\\n",
      "MMM   0.510987  0.735548  0.510070  ...  0.478893  0.873862  0.623177   \n",
      "ABT   0.799704  0.700772  0.830718  ...  0.405691  0.954420  0.652179   \n",
      "ABBV  0.684780  0.281128  0.467542  ...  0.206956  0.783982  0.408167   \n",
      "ABMD  0.703513  0.564654  0.617714  ...  0.335773  0.819712  0.412496   \n",
      "ACN   0.774082  0.713753  0.733379  ...  0.384509  0.980502  0.603791   \n",
      "...        ...       ...       ...  ...       ...       ...       ...   \n",
      "YUM   0.787949  0.679389  0.790547  ...  0.415032  0.970806  0.592174   \n",
      "ZBRA  0.847896  0.660351  0.863843  ...  0.391584  0.918642  0.676119   \n",
      "ZBH   0.530046  0.847513  0.616897  ...  0.457693  0.888489  0.711224   \n",
      "ZION  0.718122  0.568069  0.644728  ...  0.505890  0.861460  0.614004   \n",
      "ZTS   0.935234  0.359067  0.761502  ...  0.017087  0.954798  0.461979   \n",
      "\n",
      "          XLNX       XYL       YUM      ZBRA       ZBH      ZION       ZTS  \n",
      "MMM   0.795812  0.873651  0.840670  0.775197  0.914795  0.897179  0.689016  \n",
      "ABT   0.951760  0.927036  0.975739  0.975091  0.851013  0.865129  0.976971  \n",
      "ABBV  0.712674  0.902996  0.794911  0.774365  0.730304  0.906291  0.806100  \n",
      "ABMD  0.827557  0.894330  0.838859  0.833410  0.695784  0.891769  0.800460  \n",
      "ACN   0.933862  0.970354  0.974264  0.934803  0.885174  0.909198  0.975624  \n",
      "...        ...       ...       ...       ...       ...       ...       ...  \n",
      "YUM   0.956146  0.952021  1.000000  0.945240  0.849071  0.876329  0.976759  \n",
      "ZBRA  0.940453  0.905954  0.945240  1.000000  0.798938  0.863935  0.952058  \n",
      "ZBH   0.781432  0.802466  0.849071  0.798938  1.000000  0.797489  0.773084  \n",
      "ZION  0.854007  0.935083  0.876329  0.863935  0.797489  1.000000  0.821490  \n",
      "ZTS   0.911721  0.932280  0.976759  0.952058  0.773084  0.821490  1.000000  \n",
      "\n",
      "[501 rows x 501 columns]\n"
     ]
    }
   ],
   "source": [
    "korrelation = sp500.corr()\n",
    "print(korrelation)"
   ]
  },
  {
   "cell_type": "code",
   "execution_count": null,
   "metadata": {},
   "outputs": [],
   "source": []
  }
 ],
 "metadata": {
  "kernelspec": {
   "display_name": "Python 3",
   "language": "python",
   "name": "python3"
  },
  "language_info": {
   "codemirror_mode": {
    "name": "ipython",
    "version": 3
   },
   "file_extension": ".py",
   "mimetype": "text/x-python",
   "name": "python",
   "nbconvert_exporter": "python",
   "pygments_lexer": "ipython3",
   "version": "3.7.6"
  }
 },
 "nbformat": 4,
 "nbformat_minor": 4
}

{
 "cells": [
  {
   "cell_type": "code",
   "execution_count": 57,
   "metadata": {},
   "outputs": [],
   "source": [
    "from pandas_datareader import data as web\n",
    "import datetime as dt\n",
    "import matplotlib.pyplot as plt\n",
    "from matplotlib import style\n",
    "import matplotlib.dates as mdates\n",
    "from mpl_finance import candlestick_ohlc"
   ]
  },
  {
   "cell_type": "code",
   "execution_count": 2,
   "metadata": {},
   "outputs": [],
   "source": [
    "#Grabbing the data from Yahoo-API\n",
    "start = dt.datetime(2019,1,1)\n",
    "end = dt.datetime(2019,12,31)\n",
    "\n",
    "df = web.DataReader(\"AAPL\", \"yahoo\", start, end)"
   ]
  },
  {
   "cell_type": "code",
   "execution_count": 3,
   "metadata": {},
   "outputs": [
    {
     "data": {
      "text/html": [
       "<div>\n",
       "<style scoped>\n",
       "    .dataframe tbody tr th:only-of-type {\n",
       "        vertical-align: middle;\n",
       "    }\n",
       "\n",
       "    .dataframe tbody tr th {\n",
       "        vertical-align: top;\n",
       "    }\n",
       "\n",
       "    .dataframe thead th {\n",
       "        text-align: right;\n",
       "    }\n",
       "</style>\n",
       "<table border=\"1\" class=\"dataframe\">\n",
       "  <thead>\n",
       "    <tr style=\"text-align: right;\">\n",
       "      <th></th>\n",
       "      <th>High</th>\n",
       "      <th>Low</th>\n",
       "      <th>Open</th>\n",
       "      <th>Close</th>\n",
       "      <th>Volume</th>\n",
       "      <th>Adj Close</th>\n",
       "    </tr>\n",
       "    <tr>\n",
       "      <th>Date</th>\n",
       "      <th></th>\n",
       "      <th></th>\n",
       "      <th></th>\n",
       "      <th></th>\n",
       "      <th></th>\n",
       "      <th></th>\n",
       "    </tr>\n",
       "  </thead>\n",
       "  <tbody>\n",
       "    <tr>\n",
       "      <th>2019-01-02</th>\n",
       "      <td>158.850006</td>\n",
       "      <td>154.229996</td>\n",
       "      <td>154.889999</td>\n",
       "      <td>157.919998</td>\n",
       "      <td>37039700.0</td>\n",
       "      <td>154.794983</td>\n",
       "    </tr>\n",
       "    <tr>\n",
       "      <th>2019-01-03</th>\n",
       "      <td>145.720001</td>\n",
       "      <td>142.000000</td>\n",
       "      <td>143.979996</td>\n",
       "      <td>142.190002</td>\n",
       "      <td>91312200.0</td>\n",
       "      <td>139.376251</td>\n",
       "    </tr>\n",
       "    <tr>\n",
       "      <th>2019-01-04</th>\n",
       "      <td>148.550003</td>\n",
       "      <td>143.800003</td>\n",
       "      <td>144.529999</td>\n",
       "      <td>148.259995</td>\n",
       "      <td>58607100.0</td>\n",
       "      <td>145.326126</td>\n",
       "    </tr>\n",
       "    <tr>\n",
       "      <th>2019-01-07</th>\n",
       "      <td>148.830002</td>\n",
       "      <td>145.899994</td>\n",
       "      <td>148.699997</td>\n",
       "      <td>147.929993</td>\n",
       "      <td>54777800.0</td>\n",
       "      <td>145.002686</td>\n",
       "    </tr>\n",
       "    <tr>\n",
       "      <th>2019-01-08</th>\n",
       "      <td>151.820007</td>\n",
       "      <td>148.520004</td>\n",
       "      <td>149.559998</td>\n",
       "      <td>150.750000</td>\n",
       "      <td>41025300.0</td>\n",
       "      <td>147.766861</td>\n",
       "    </tr>\n",
       "  </tbody>\n",
       "</table>\n",
       "</div>"
      ],
      "text/plain": [
       "                  High         Low        Open       Close      Volume  \\\n",
       "Date                                                                     \n",
       "2019-01-02  158.850006  154.229996  154.889999  157.919998  37039700.0   \n",
       "2019-01-03  145.720001  142.000000  143.979996  142.190002  91312200.0   \n",
       "2019-01-04  148.550003  143.800003  144.529999  148.259995  58607100.0   \n",
       "2019-01-07  148.830002  145.899994  148.699997  147.929993  54777800.0   \n",
       "2019-01-08  151.820007  148.520004  149.559998  150.750000  41025300.0   \n",
       "\n",
       "             Adj Close  \n",
       "Date                    \n",
       "2019-01-02  154.794983  \n",
       "2019-01-03  139.376251  \n",
       "2019-01-04  145.326126  \n",
       "2019-01-07  145.002686  \n",
       "2019-01-08  147.766861  "
      ]
     },
     "execution_count": 3,
     "metadata": {},
     "output_type": "execute_result"
    }
   ],
   "source": [
    "#Sanity Checks\n",
    "df.head()"
   ]
  },
  {
   "cell_type": "code",
   "execution_count": 4,
   "metadata": {},
   "outputs": [
    {
     "data": {
      "text/html": [
       "<div>\n",
       "<style scoped>\n",
       "    .dataframe tbody tr th:only-of-type {\n",
       "        vertical-align: middle;\n",
       "    }\n",
       "\n",
       "    .dataframe tbody tr th {\n",
       "        vertical-align: top;\n",
       "    }\n",
       "\n",
       "    .dataframe thead th {\n",
       "        text-align: right;\n",
       "    }\n",
       "</style>\n",
       "<table border=\"1\" class=\"dataframe\">\n",
       "  <thead>\n",
       "    <tr style=\"text-align: right;\">\n",
       "      <th></th>\n",
       "      <th>High</th>\n",
       "      <th>Low</th>\n",
       "      <th>Open</th>\n",
       "      <th>Close</th>\n",
       "      <th>Volume</th>\n",
       "      <th>Adj Close</th>\n",
       "    </tr>\n",
       "    <tr>\n",
       "      <th>Date</th>\n",
       "      <th></th>\n",
       "      <th></th>\n",
       "      <th></th>\n",
       "      <th></th>\n",
       "      <th></th>\n",
       "      <th></th>\n",
       "    </tr>\n",
       "  </thead>\n",
       "  <tbody>\n",
       "    <tr>\n",
       "      <th>2019-12-24</th>\n",
       "      <td>284.890015</td>\n",
       "      <td>282.920013</td>\n",
       "      <td>284.690002</td>\n",
       "      <td>284.269989</td>\n",
       "      <td>12119700.0</td>\n",
       "      <td>282.831299</td>\n",
       "    </tr>\n",
       "    <tr>\n",
       "      <th>2019-12-26</th>\n",
       "      <td>289.980011</td>\n",
       "      <td>284.700012</td>\n",
       "      <td>284.820007</td>\n",
       "      <td>289.910004</td>\n",
       "      <td>23280300.0</td>\n",
       "      <td>288.442780</td>\n",
       "    </tr>\n",
       "    <tr>\n",
       "      <th>2019-12-27</th>\n",
       "      <td>293.970001</td>\n",
       "      <td>288.119995</td>\n",
       "      <td>291.119995</td>\n",
       "      <td>289.799988</td>\n",
       "      <td>36566500.0</td>\n",
       "      <td>288.333313</td>\n",
       "    </tr>\n",
       "    <tr>\n",
       "      <th>2019-12-30</th>\n",
       "      <td>292.690002</td>\n",
       "      <td>285.220001</td>\n",
       "      <td>289.459991</td>\n",
       "      <td>291.519989</td>\n",
       "      <td>36028600.0</td>\n",
       "      <td>290.044617</td>\n",
       "    </tr>\n",
       "    <tr>\n",
       "      <th>2019-12-31</th>\n",
       "      <td>293.679993</td>\n",
       "      <td>289.519989</td>\n",
       "      <td>289.929993</td>\n",
       "      <td>293.649994</td>\n",
       "      <td>25201400.0</td>\n",
       "      <td>292.163818</td>\n",
       "    </tr>\n",
       "  </tbody>\n",
       "</table>\n",
       "</div>"
      ],
      "text/plain": [
       "                  High         Low        Open       Close      Volume  \\\n",
       "Date                                                                     \n",
       "2019-12-24  284.890015  282.920013  284.690002  284.269989  12119700.0   \n",
       "2019-12-26  289.980011  284.700012  284.820007  289.910004  23280300.0   \n",
       "2019-12-27  293.970001  288.119995  291.119995  289.799988  36566500.0   \n",
       "2019-12-30  292.690002  285.220001  289.459991  291.519989  36028600.0   \n",
       "2019-12-31  293.679993  289.519989  289.929993  293.649994  25201400.0   \n",
       "\n",
       "             Adj Close  \n",
       "Date                    \n",
       "2019-12-24  282.831299  \n",
       "2019-12-26  288.442780  \n",
       "2019-12-27  288.333313  \n",
       "2019-12-30  290.044617  \n",
       "2019-12-31  292.163818  "
      ]
     },
     "execution_count": 4,
     "metadata": {},
     "output_type": "execute_result"
    }
   ],
   "source": [
    "df.tail()"
   ]
  },
  {
   "cell_type": "code",
   "execution_count": 5,
   "metadata": {},
   "outputs": [
    {
     "data": {
      "text/plain": [
       "142.19000244140625"
      ]
     },
     "execution_count": 5,
     "metadata": {},
     "output_type": "execute_result"
    }
   ],
   "source": [
    "df[\"Close\"][\"2019-01-03\"]"
   ]
  },
  {
   "cell_type": "code",
   "execution_count": 6,
   "metadata": {},
   "outputs": [
    {
     "data": {
      "text/plain": [
       "142.19000244140625"
      ]
     },
     "execution_count": 6,
     "metadata": {},
     "output_type": "execute_result"
    }
   ],
   "source": [
    "df[\"Close\"][1]"
   ]
  },
  {
   "cell_type": "code",
   "execution_count": 7,
   "metadata": {},
   "outputs": [],
   "source": [
    "#Save data as csv\n",
    "df.to_csv(\"stock_data.csv\", sep=\",\")"
   ]
  },
  {
   "cell_type": "code",
   "execution_count": 10,
   "metadata": {},
   "outputs": [
    {
     "data": {
      "image/png": "[encoded data removed]",
      "text/plain": [
       "<Figure size 576x396 with 1 Axes>"
      ]
     },
     "metadata": {},
     "output_type": "display_data"
    }
   ],
   "source": [
    "#Data cleaning and crafting SMAs\n",
    "df.dropna(inplace=True)\n",
    "df[\"100ma\"] = df[\"Adj Close\"].rolling(window = 100, min_periods = 0).mean()\n",
    "df[\"25ma\"] = df[\"Adj Close\"].rolling(window = 25, min_periods = 0).mean()\n",
    "\n",
    "#Plotting\n",
    "df[\"Adj Close\"].plot()\n",
    "df[\"100ma\"].plot()\n",
    "df[\"25ma\"].plot()\n",
    "style.use(\"seaborn\")\n",
    "plt.grid(True)\n",
    "plt.show()"
   ]
  },
  {
   "cell_type": "code",
   "execution_count": 11,
   "metadata": {},
   "outputs": [
    {
     "data": {
      "text/html": [
       "<div>\n",
       "<style scoped>\n",
       "    .dataframe tbody tr th:only-of-type {\n",
       "        vertical-align: middle;\n",
       "    }\n",
       "\n",
       "    .dataframe tbody tr th {\n",
       "        vertical-align: top;\n",
       "    }\n",
       "\n",
       "    .dataframe thead th {\n",
       "        text-align: right;\n",
       "    }\n",
       "</style>\n",
       "<table border=\"1\" class=\"dataframe\">\n",
       "  <thead>\n",
       "    <tr style=\"text-align: right;\">\n",
       "      <th></th>\n",
       "      <th>High</th>\n",
       "      <th>Low</th>\n",
       "      <th>Open</th>\n",
       "      <th>Close</th>\n",
       "      <th>Volume</th>\n",
       "      <th>Adj Close</th>\n",
       "      <th>100ma</th>\n",
       "      <th>25ma</th>\n",
       "    </tr>\n",
       "    <tr>\n",
       "      <th>Date</th>\n",
       "      <th></th>\n",
       "      <th></th>\n",
       "      <th></th>\n",
       "      <th></th>\n",
       "      <th></th>\n",
       "      <th></th>\n",
       "      <th></th>\n",
       "      <th></th>\n",
       "    </tr>\n",
       "  </thead>\n",
       "  <tbody>\n",
       "    <tr>\n",
       "      <th>2019-05-24</th>\n",
       "      <td>182.139999</td>\n",
       "      <td>178.619995</td>\n",
       "      <td>180.199997</td>\n",
       "      <td>178.970001</td>\n",
       "      <td>23714700.0</td>\n",
       "      <td>176.859283</td>\n",
       "      <td>176.859283</td>\n",
       "      <td>176.859283</td>\n",
       "    </tr>\n",
       "    <tr>\n",
       "      <th>2019-05-28</th>\n",
       "      <td>180.589996</td>\n",
       "      <td>177.910004</td>\n",
       "      <td>178.919998</td>\n",
       "      <td>178.229996</td>\n",
       "      <td>27948200.0</td>\n",
       "      <td>176.128006</td>\n",
       "      <td>176.493645</td>\n",
       "      <td>176.493645</td>\n",
       "    </tr>\n",
       "    <tr>\n",
       "      <th>2019-05-29</th>\n",
       "      <td>179.350006</td>\n",
       "      <td>176.000000</td>\n",
       "      <td>176.419998</td>\n",
       "      <td>177.380005</td>\n",
       "      <td>28481200.0</td>\n",
       "      <td>175.288025</td>\n",
       "      <td>176.091771</td>\n",
       "      <td>176.091771</td>\n",
       "    </tr>\n",
       "    <tr>\n",
       "      <th>2019-05-30</th>\n",
       "      <td>179.229996</td>\n",
       "      <td>176.669998</td>\n",
       "      <td>177.949997</td>\n",
       "      <td>178.300003</td>\n",
       "      <td>21218400.0</td>\n",
       "      <td>176.197189</td>\n",
       "      <td>176.118126</td>\n",
       "      <td>176.118126</td>\n",
       "    </tr>\n",
       "    <tr>\n",
       "      <th>2019-05-31</th>\n",
       "      <td>177.990005</td>\n",
       "      <td>174.990005</td>\n",
       "      <td>176.229996</td>\n",
       "      <td>175.070007</td>\n",
       "      <td>27043600.0</td>\n",
       "      <td>173.005280</td>\n",
       "      <td>175.495557</td>\n",
       "      <td>175.495557</td>\n",
       "    </tr>\n",
       "  </tbody>\n",
       "</table>\n",
       "</div>"
      ],
      "text/plain": [
       "                  High         Low        Open       Close      Volume  \\\n",
       "Date                                                                     \n",
       "2019-05-24  182.139999  178.619995  180.199997  178.970001  23714700.0   \n",
       "2019-05-28  180.589996  177.910004  178.919998  178.229996  27948200.0   \n",
       "2019-05-29  179.350006  176.000000  176.419998  177.380005  28481200.0   \n",
       "2019-05-30  179.229996  176.669998  177.949997  178.300003  21218400.0   \n",
       "2019-05-31  177.990005  174.990005  176.229996  175.070007  27043600.0   \n",
       "\n",
       "             Adj Close       100ma        25ma  \n",
       "Date                                            \n",
       "2019-05-24  176.859283  176.859283  176.859283  \n",
       "2019-05-28  176.128006  176.493645  176.493645  \n",
       "2019-05-29  175.288025  176.091771  176.091771  \n",
       "2019-05-30  176.197189  176.118126  176.118126  \n",
       "2019-05-31  173.005280  175.495557  175.495557  "
      ]
     },
     "execution_count": 11,
     "metadata": {},
     "output_type": "execute_result"
    }
   ],
   "source": [
    "df.head()"
   ]
  },
  {
   "cell_type": "code",
   "execution_count": 37,
   "metadata": {},
   "outputs": [],
   "source": [
    "df[\"ChangePct\"] = ((df[\"Close\"] - df[\"Open\"]) / df[\"Open\"]) * 100"
   ]
  },
  {
   "cell_type": "code",
   "execution_count": 46,
   "metadata": {},
   "outputs": [],
   "source": [
    "df[\"ChangePts\"] = (df[\"Close\"] - df[\"Open\"])"
   ]
  },
  {
   "cell_type": "code",
   "execution_count": 47,
   "metadata": {},
   "outputs": [],
   "source": [
    "df[\"Volatility\"] = (df[\"High\"] - df[\"Low\"]) / df[\"Close\"] * 100"
   ]
  },
  {
   "cell_type": "code",
   "execution_count": 48,
   "metadata": {},
   "outputs": [
    {
     "data": {
      "text/html": [
       "<div>\n",
       "<style scoped>\n",
       "    .dataframe tbody tr th:only-of-type {\n",
       "        vertical-align: middle;\n",
       "    }\n",
       "\n",
       "    .dataframe tbody tr th {\n",
       "        vertical-align: top;\n",
       "    }\n",
       "\n",
       "    .dataframe thead th {\n",
       "        text-align: right;\n",
       "    }\n",
       "</style>\n",
       "<table border=\"1\" class=\"dataframe\">\n",
       "  <thead>\n",
       "    <tr style=\"text-align: right;\">\n",
       "      <th></th>\n",
       "      <th>High</th>\n",
       "      <th>Low</th>\n",
       "      <th>Open</th>\n",
       "      <th>Close</th>\n",
       "      <th>Volume</th>\n",
       "      <th>Adj Close</th>\n",
       "      <th>100ma</th>\n",
       "      <th>25ma</th>\n",
       "      <th>Change</th>\n",
       "      <th>Volatility</th>\n",
       "      <th>ChangePct</th>\n",
       "      <th>ChangePts</th>\n",
       "    </tr>\n",
       "    <tr>\n",
       "      <th>Date</th>\n",
       "      <th></th>\n",
       "      <th></th>\n",
       "      <th></th>\n",
       "      <th></th>\n",
       "      <th></th>\n",
       "      <th></th>\n",
       "      <th></th>\n",
       "      <th></th>\n",
       "      <th></th>\n",
       "      <th></th>\n",
       "      <th></th>\n",
       "      <th></th>\n",
       "    </tr>\n",
       "  </thead>\n",
       "  <tbody>\n",
       "    <tr>\n",
       "      <th>2019-05-24</th>\n",
       "      <td>182.139999</td>\n",
       "      <td>178.619995</td>\n",
       "      <td>180.199997</td>\n",
       "      <td>178.970001</td>\n",
       "      <td>23714700.0</td>\n",
       "      <td>176.859283</td>\n",
       "      <td>176.859283</td>\n",
       "      <td>176.859283</td>\n",
       "      <td>-0.682573</td>\n",
       "      <td>1.966812</td>\n",
       "      <td>-0.682573</td>\n",
       "      <td>-1.229996</td>\n",
       "    </tr>\n",
       "    <tr>\n",
       "      <th>2019-05-28</th>\n",
       "      <td>180.589996</td>\n",
       "      <td>177.910004</td>\n",
       "      <td>178.919998</td>\n",
       "      <td>178.229996</td>\n",
       "      <td>27948200.0</td>\n",
       "      <td>176.128006</td>\n",
       "      <td>176.493645</td>\n",
       "      <td>176.493645</td>\n",
       "      <td>-0.385649</td>\n",
       "      <td>1.503671</td>\n",
       "      <td>-0.385649</td>\n",
       "      <td>-0.690002</td>\n",
       "    </tr>\n",
       "    <tr>\n",
       "      <th>2019-05-29</th>\n",
       "      <td>179.350006</td>\n",
       "      <td>176.000000</td>\n",
       "      <td>176.419998</td>\n",
       "      <td>177.380005</td>\n",
       "      <td>28481200.0</td>\n",
       "      <td>175.288025</td>\n",
       "      <td>176.091771</td>\n",
       "      <td>176.091771</td>\n",
       "      <td>0.544160</td>\n",
       "      <td>1.888604</td>\n",
       "      <td>0.544160</td>\n",
       "      <td>0.960007</td>\n",
       "    </tr>\n",
       "    <tr>\n",
       "      <th>2019-05-30</th>\n",
       "      <td>179.229996</td>\n",
       "      <td>176.669998</td>\n",
       "      <td>177.949997</td>\n",
       "      <td>178.300003</td>\n",
       "      <td>21218400.0</td>\n",
       "      <td>176.197189</td>\n",
       "      <td>176.118126</td>\n",
       "      <td>176.118126</td>\n",
       "      <td>0.196688</td>\n",
       "      <td>1.435781</td>\n",
       "      <td>0.196688</td>\n",
       "      <td>0.350006</td>\n",
       "    </tr>\n",
       "    <tr>\n",
       "      <th>2019-05-31</th>\n",
       "      <td>177.990005</td>\n",
       "      <td>174.990005</td>\n",
       "      <td>176.229996</td>\n",
       "      <td>175.070007</td>\n",
       "      <td>27043600.0</td>\n",
       "      <td>173.005280</td>\n",
       "      <td>175.495557</td>\n",
       "      <td>175.495557</td>\n",
       "      <td>-0.658224</td>\n",
       "      <td>1.713600</td>\n",
       "      <td>-0.658224</td>\n",
       "      <td>-1.159988</td>\n",
       "    </tr>\n",
       "  </tbody>\n",
       "</table>\n",
       "</div>"
      ],
      "text/plain": [
       "                  High         Low        Open       Close      Volume  \\\n",
       "Date                                                                     \n",
       "2019-05-24  182.139999  178.619995  180.199997  178.970001  23714700.0   \n",
       "2019-05-28  180.589996  177.910004  178.919998  178.229996  27948200.0   \n",
       "2019-05-29  179.350006  176.000000  176.419998  177.380005  28481200.0   \n",
       "2019-05-30  179.229996  176.669998  177.949997  178.300003  21218400.0   \n",
       "2019-05-31  177.990005  174.990005  176.229996  175.070007  27043600.0   \n",
       "\n",
       "             Adj Close       100ma        25ma    Change  Volatility  \\\n",
       "Date                                                                   \n",
       "2019-05-24  176.859283  176.859283  176.859283 -0.682573    1.966812   \n",
       "2019-05-28  176.128006  176.493645  176.493645 -0.385649    1.503671   \n",
       "2019-05-29  175.288025  176.091771  176.091771  0.544160    1.888604   \n",
       "2019-05-30  176.197189  176.118126  176.118126  0.196688    1.435781   \n",
       "2019-05-31  173.005280  175.495557  175.495557 -0.658224    1.713600   \n",
       "\n",
       "            ChangePct  ChangePts  \n",
       "Date                              \n",
       "2019-05-24  -0.682573  -1.229996  \n",
       "2019-05-28  -0.385649  -0.690002  \n",
       "2019-05-29   0.544160   0.960007  \n",
       "2019-05-30   0.196688   0.350006  \n",
       "2019-05-31  -0.658224  -1.159988  "
      ]
     },
     "execution_count": 48,
     "metadata": {},
     "output_type": "execute_result"
    }
   ],
   "source": [
    "df.head()"
   ]
  },
  {
   "cell_type": "code",
   "execution_count": 55,
   "metadata": {},
   "outputs": [
    {
     "data": {
      "text/plain": [
       "[<matplotlib.lines.Line2D at 0x7fe56a8b7050>]"
      ]
     },
     "execution_count": 55,
     "metadata": {},
     "output_type": "execute_result"
    },
    {
     "data": {
      "image/png": "[encoded data removed]",
      "text/plain": [
       "<Figure size 576x396 with 4 Axes>"
      ]
     },
     "metadata": {},
     "output_type": "display_data"
    }
   ],
   "source": [
    "# Adding Subplots\n",
    "ax1 = plt.subplot2grid((8,1), (0,0), rowspan=4, colspan=1) # window size, start position, plot size (4 x 1)\n",
    "ax2 = plt.subplot2grid((8,1), (4,0), rowspan=1, colspan=1, sharex=ax1) #...both plots have same axis (1 x 1)\n",
    "ax3 = plt.subplot2grid((8,1), (6,0), rowspan=1, colspan=1, sharex=ax1) #...both plots have same axis (1 x 1)\n",
    "ax4 = plt.subplot2grid((8,1), (7,0), rowspan=1, colspan=1, sharex=ax1) #...both plots have same axis (1 x 1)\n",
    "\n",
    "ax1.plot(df.index, df[\"Adj Close\"])\n",
    "ax1.plot(df.index, df[\"100ma\"])\n",
    "ax2.plot(df.index, df[\"ChangePts\"])\n",
    "ax3.bar(df.index, df[\"Volatility\"])\n",
    "ax4.plot(df.index, df[\"ChangePct\"])"
   ]
  },
  {
   "cell_type": "markdown",
   "metadata": {},
   "source": [
    "### Candlestick Charts"
   ]
  },
  {
   "cell_type": "code",
   "execution_count": 73,
   "metadata": {},
   "outputs": [],
   "source": [
    "df_ohlc = df[\"Adj Close\"].resample(\"10D\").ohlc()"
   ]
  },
  {
   "cell_type": "code",
   "execution_count": 64,
   "metadata": {},
   "outputs": [
    {
     "data": {
      "text/html": [
       "<div>\n",
       "<style scoped>\n",
       "    .dataframe tbody tr th:only-of-type {\n",
       "        vertical-align: middle;\n",
       "    }\n",
       "\n",
       "    .dataframe tbody tr th {\n",
       "        vertical-align: top;\n",
       "    }\n",
       "\n",
       "    .dataframe thead th {\n",
       "        text-align: right;\n",
       "    }\n",
       "</style>\n",
       "<table border=\"1\" class=\"dataframe\">\n",
       "  <thead>\n",
       "    <tr style=\"text-align: right;\">\n",
       "      <th></th>\n",
       "      <th>open</th>\n",
       "      <th>high</th>\n",
       "      <th>low</th>\n",
       "      <th>close</th>\n",
       "    </tr>\n",
       "    <tr>\n",
       "      <th>Date</th>\n",
       "      <th></th>\n",
       "      <th></th>\n",
       "      <th></th>\n",
       "      <th></th>\n",
       "    </tr>\n",
       "  </thead>\n",
       "  <tbody>\n",
       "    <tr>\n",
       "      <th>2019-05-24</th>\n",
       "      <td>176.859283</td>\n",
       "      <td>176.859283</td>\n",
       "      <td>173.005280</td>\n",
       "      <td>173.005280</td>\n",
       "    </tr>\n",
       "    <tr>\n",
       "      <th>2019-06-03</th>\n",
       "      <td>171.256134</td>\n",
       "      <td>192.512451</td>\n",
       "      <td>171.256134</td>\n",
       "      <td>191.899780</td>\n",
       "    </tr>\n",
       "    <tr>\n",
       "      <th>2019-06-13</th>\n",
       "      <td>191.860229</td>\n",
       "      <td>197.107620</td>\n",
       "      <td>190.466873</td>\n",
       "      <td>196.435623</td>\n",
       "    </tr>\n",
       "    <tr>\n",
       "      <th>2019-06-23</th>\n",
       "      <td>196.237991</td>\n",
       "      <td>200.339050</td>\n",
       "      <td>193.263504</td>\n",
       "      <td>200.339050</td>\n",
       "    </tr>\n",
       "    <tr>\n",
       "      <th>2019-07-03</th>\n",
       "      <td>201.999237</td>\n",
       "      <td>201.999237</td>\n",
       "      <td>197.661011</td>\n",
       "      <td>200.902344</td>\n",
       "    </tr>\n",
       "  </tbody>\n",
       "</table>\n",
       "</div>"
      ],
      "text/plain": [
       "                  open        high         low       close\n",
       "Date                                                      \n",
       "2019-05-24  176.859283  176.859283  173.005280  173.005280\n",
       "2019-06-03  171.256134  192.512451  171.256134  191.899780\n",
       "2019-06-13  191.860229  197.107620  190.466873  196.435623\n",
       "2019-06-23  196.237991  200.339050  193.263504  200.339050\n",
       "2019-07-03  201.999237  201.999237  197.661011  200.902344"
      ]
     },
     "execution_count": 64,
     "metadata": {},
     "output_type": "execute_result"
    }
   ],
   "source": [
    "df_ohlc.head()"
   ]
  },
  {
   "cell_type": "code",
   "execution_count": 65,
   "metadata": {},
   "outputs": [],
   "source": [
    "df_volume = df[\"Volume\"].resample(\"10D\").sum()"
   ]
  },
  {
   "cell_type": "code",
   "execution_count": 66,
   "metadata": {},
   "outputs": [
    {
     "data": {
      "text/plain": [
       "Date\n",
       "2019-05-24    128406100.0\n",
       "2019-06-03    225723800.0\n",
       "2019-06-13    172095000.0\n",
       "2019-06-23    161620400.0\n",
       "2019-07-03    130228200.0\n",
       "Freq: 10D, Name: Volume, dtype: float64"
      ]
     },
     "execution_count": 66,
     "metadata": {},
     "output_type": "execute_result"
    }
   ],
   "source": [
    "df_volume.head()"
   ]
  },
  {
   "cell_type": "code",
   "execution_count": 74,
   "metadata": {},
   "outputs": [],
   "source": [
    "df_ohlc.reset_index(inplace=True) #mpl_finance can't work with datetime, therfore: create empty index\n",
    "df_ohlc[\"Date\"] = df_ohlc[\"Date\"].map(mdates.date2num) # and map each real Date to a numeric Date number"
   ]
  },
  {
   "cell_type": "code",
   "execution_count": 77,
   "metadata": {},
   "outputs": [
    {
     "data": {
      "text/html": [
       "<div>\n",
       "<style scoped>\n",
       "    .dataframe tbody tr th:only-of-type {\n",
       "        vertical-align: middle;\n",
       "    }\n",
       "\n",
       "    .dataframe tbody tr th {\n",
       "        vertical-align: top;\n",
       "    }\n",
       "\n",
       "    .dataframe thead th {\n",
       "        text-align: right;\n",
       "    }\n",
       "</style>\n",
       "<table border=\"1\" class=\"dataframe\">\n",
       "  <thead>\n",
       "    <tr style=\"text-align: right;\">\n",
       "      <th></th>\n",
       "      <th>Date</th>\n",
       "      <th>open</th>\n",
       "      <th>high</th>\n",
       "      <th>low</th>\n",
       "      <th>close</th>\n",
       "    </tr>\n",
       "  </thead>\n",
       "  <tbody>\n",
       "    <tr>\n",
       "      <th>0</th>\n",
       "      <td>737203.0</td>\n",
       "      <td>176.859283</td>\n",
       "      <td>176.859283</td>\n",
       "      <td>173.005280</td>\n",
       "      <td>173.005280</td>\n",
       "    </tr>\n",
       "    <tr>\n",
       "      <th>1</th>\n",
       "      <td>737213.0</td>\n",
       "      <td>171.256134</td>\n",
       "      <td>192.512451</td>\n",
       "      <td>171.256134</td>\n",
       "      <td>191.899780</td>\n",
       "    </tr>\n",
       "    <tr>\n",
       "      <th>2</th>\n",
       "      <td>737223.0</td>\n",
       "      <td>191.860229</td>\n",
       "      <td>197.107620</td>\n",
       "      <td>190.466873</td>\n",
       "      <td>196.435623</td>\n",
       "    </tr>\n",
       "    <tr>\n",
       "      <th>3</th>\n",
       "      <td>737233.0</td>\n",
       "      <td>196.237991</td>\n",
       "      <td>200.339050</td>\n",
       "      <td>193.263504</td>\n",
       "      <td>200.339050</td>\n",
       "    </tr>\n",
       "    <tr>\n",
       "      <th>4</th>\n",
       "      <td>737243.0</td>\n",
       "      <td>201.999237</td>\n",
       "      <td>201.999237</td>\n",
       "      <td>197.661011</td>\n",
       "      <td>200.902344</td>\n",
       "    </tr>\n",
       "  </tbody>\n",
       "</table>\n",
       "</div>"
      ],
      "text/plain": [
       "       Date        open        high         low       close\n",
       "0  737203.0  176.859283  176.859283  173.005280  173.005280\n",
       "1  737213.0  171.256134  192.512451  171.256134  191.899780\n",
       "2  737223.0  191.860229  197.107620  190.466873  196.435623\n",
       "3  737233.0  196.237991  200.339050  193.263504  200.339050\n",
       "4  737243.0  201.999237  201.999237  197.661011  200.902344"
      ]
     },
     "execution_count": 77,
     "metadata": {},
     "output_type": "execute_result"
    }
   ],
   "source": [
    "df_ohlc.head()"
   ]
  },
  {
   "cell_type": "code",
   "execution_count": 89,
   "metadata": {},
   "outputs": [
    {
     "data": {
      "image/png": "[encoded data removed]",
      "text/plain": [
       "<Figure size 576x396 with 2 Axes>"
      ]
     },
     "metadata": {},
     "output_type": "display_data"
    }
   ],
   "source": [
    "ax1 = plt.subplot2grid((6,1), (0,0), rowspan=5, colspan=1) # window size, start position, plot size (5 x 1)\n",
    "ax2 = plt.subplot2grid((6,1), (5,0), rowspan=1, colspan=1, sharex=ax1) #...both plots have same axis (1 x 1)\n",
    "ax1.xaxis_date() # plots date on x-axis \n",
    "candlestick_ohlc(ax1, df_ohlc.values, width=8, colorup=\"g\", colordown=\"r\") #creates the candlesticks\n",
    "\n",
    "ax2.fill_between(df_volume.index.map(mdates.date2num), df_volume.values)\n",
    "ax1.grid(True, color=\"lightgray\")\n",
    "plt.show()"
   ]
  },
  {
   "cell_type": "code",
   "execution_count": null,
   "metadata": {},
   "outputs": [],
   "source": []
  }
 ],
 "metadata": {
  "kernelspec": {
   "display_name": "Python 3",
   "language": "python",
   "name": "python3"
  },
  "language_info": {
   "codemirror_mode": {
    "name": "ipython",
    "version": 3
   },
   "file_extension": ".py",
   "mimetype": "text/x-python",
   "name": "python",
   "nbconvert_exporter": "python",
   "pygments_lexer": "ipython3",
   "version": "3.7.6"
  }
 },
 "nbformat": 4,
 "nbformat_minor": 4
}

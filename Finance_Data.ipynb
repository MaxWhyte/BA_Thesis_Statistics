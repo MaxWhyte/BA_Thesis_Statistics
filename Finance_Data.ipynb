{
 "cells": [
  {
   "cell_type": "code",
   "execution_count": 5,
   "metadata": {},
   "outputs": [],
   "source": [
    "from pandas_datareader import data as web\n",
    "import pandas as pd\n",
    "import numpy as np\n",
    "import datetime as dt\n",
    "import matplotlib.pyplot as plt\n",
    "from matplotlib import style\n",
    "import matplotlib.dates as mdates\n",
    "from mpl_finance import candlestick_ohlc\n",
    "import os\n",
    "import seaborn as sns"
   ]
  },
  {
   "cell_type": "code",
   "execution_count": null,
   "metadata": {},
   "outputs": [],
   "source": [
    "#Grabbing the data from Yahoo-API\n",
    "start = dt.datetime(2016,1,1)\n",
    "end = dt.datetime(2019,12,31)\n",
    "\n",
    "df = web.DataReader(\"AAPL\", \"yahoo\", start, end)"
   ]
  },
  {
   "cell_type": "code",
   "execution_count": null,
   "metadata": {},
   "outputs": [],
   "source": [
    "#Or read the csv file from disk\n",
    "df = pd.read_csv(\"stock_data.csv\", sep=\",\", index_col = 0) #set \"Date\" column as index and convert to datetime\n",
    "df.index = pd.to_datetime(df.index)"
   ]
  },
  {
   "cell_type": "code",
   "execution_count": null,
   "metadata": {},
   "outputs": [],
   "source": [
    "#Sanity Checks\n",
    "df.head()"
   ]
  },
  {
   "cell_type": "code",
   "execution_count": null,
   "metadata": {},
   "outputs": [],
   "source": [
    "df.tail()"
   ]
  },
  {
   "cell_type": "code",
   "execution_count": null,
   "metadata": {},
   "outputs": [],
   "source": [
    "df[\"Close\"][\"2016-01-05\"]"
   ]
  },
  {
   "cell_type": "code",
   "execution_count": null,
   "metadata": {},
   "outputs": [],
   "source": [
    "df[\"Close\"][1]"
   ]
  },
  {
   "cell_type": "code",
   "execution_count": null,
   "metadata": {},
   "outputs": [],
   "source": [
    "#Save data as csv\n",
    "df.to_csv(\"stock_data.csv\", sep=\",\")"
   ]
  },
  {
   "cell_type": "code",
   "execution_count": null,
   "metadata": {},
   "outputs": [],
   "source": [
    "#Data cleaning and crafting SMAs\n",
    "df.dropna(inplace=True)\n",
    "df[\"100ma\"] = df[\"Adj Close\"].rolling(window = 100, min_periods = 0).mean()\n",
    "df[\"25ma\"] = df[\"Adj Close\"].rolling(window = 25, min_periods = 0).mean()\n",
    "\n",
    "#Plotting\n",
    "df[\"Adj Close\"].plot()\n",
    "df[\"100ma\"].plot()\n",
    "df[\"25ma\"].plot()\n",
    "style.use(\"seaborn\")\n",
    "plt.grid(True)\n",
    "plt.show()"
   ]
  },
  {
   "cell_type": "code",
   "execution_count": null,
   "metadata": {},
   "outputs": [],
   "source": [
    "df.head()"
   ]
  },
  {
   "cell_type": "code",
   "execution_count": null,
   "metadata": {},
   "outputs": [],
   "source": [
    "df[\"ChangePct\"] = ((df[\"Close\"] - df[\"Open\"]) / df[\"Open\"]) * 100"
   ]
  },
  {
   "cell_type": "code",
   "execution_count": null,
   "metadata": {},
   "outputs": [],
   "source": [
    "df[\"ChangePts\"] = (df[\"Close\"] - df[\"Open\"])"
   ]
  },
  {
   "cell_type": "code",
   "execution_count": null,
   "metadata": {},
   "outputs": [],
   "source": [
    "df[\"VolatilityPct\"] = (df[\"High\"] - df[\"Low\"]) / df[\"Close\"] * 100"
   ]
  },
  {
   "cell_type": "code",
   "execution_count": null,
   "metadata": {},
   "outputs": [],
   "source": [
    "df.head()"
   ]
  },
  {
   "cell_type": "code",
   "execution_count": null,
   "metadata": {},
   "outputs": [],
   "source": [
    "# Adding Subplots\n",
    "ax1 = plt.subplot2grid((8,1), (0,0), rowspan=4, colspan=1) # window size, start position, plot size (4 x 1)\n",
    "ax2 = plt.subplot2grid((8,1), (4,0), rowspan=1, colspan=1, sharex=ax1) #...both plots have same axis (1 x 1)\n",
    "ax3 = plt.subplot2grid((8,1), (6,0), rowspan=1, colspan=1, sharex=ax1) #...both plots have same axis (1 x 1)\n",
    "ax4 = plt.subplot2grid((8,1), (7,0), rowspan=1, colspan=1, sharex=ax1) #...both plots have same axis (1 x 1)\n",
    "\n",
    "ax1.plot(df.index, df[\"Adj Close\"])\n",
    "ax1.plot(df.index, df[\"100ma\"])\n",
    "ax2.plot(df.index, df[\"ChangePts\"])\n",
    "ax3.bar(df.index, df[\"VolatilityPct\"])\n",
    "ax4.plot(df.index, df[\"ChangePct\"])"
   ]
  },
  {
   "cell_type": "markdown",
   "metadata": {},
   "source": [
    "### Candlestick Charts"
   ]
  },
  {
   "cell_type": "code",
   "execution_count": null,
   "metadata": {},
   "outputs": [],
   "source": [
    "df_ohlc = df[\"Adj Close\"].resample(\"10D\").ohlc()"
   ]
  },
  {
   "cell_type": "code",
   "execution_count": null,
   "metadata": {},
   "outputs": [],
   "source": [
    "df_ohlc.head()"
   ]
  },
  {
   "cell_type": "code",
   "execution_count": null,
   "metadata": {},
   "outputs": [],
   "source": [
    "df_volume = df[\"Volume\"].resample(\"10D\").sum()"
   ]
  },
  {
   "cell_type": "code",
   "execution_count": null,
   "metadata": {},
   "outputs": [],
   "source": [
    "df_volume.head()"
   ]
  },
  {
   "cell_type": "code",
   "execution_count": null,
   "metadata": {},
   "outputs": [],
   "source": [
    "df_ohlc.reset_index(inplace=True) #mpl_finance can't work with datetime, therefore: create empty index\n",
    "df_ohlc[\"Date\"] = df_ohlc[\"Date\"].map(mdates.date2num) # and map each real Date to a numeric Date number"
   ]
  },
  {
   "cell_type": "code",
   "execution_count": null,
   "metadata": {},
   "outputs": [],
   "source": [
    "df_ohlc.head()"
   ]
  },
  {
   "cell_type": "code",
   "execution_count": null,
   "metadata": {},
   "outputs": [],
   "source": [
    "ax1 = plt.subplot2grid((6,1), (0,0), rowspan=5, colspan=1) # window size, start position, plot size (5 x 1)\n",
    "ax2 = plt.subplot2grid((6,1), (5,0), rowspan=1, colspan=1, sharex=ax1) #...both plots have same axis (1 x 1)\n",
    "ax1.xaxis_date() # plots date on x-axis \n",
    "candlestick_ohlc(ax1, df_ohlc.values, width=8, colorup=\"g\", colordown=\"r\") #creates the candlesticks\n",
    "\n",
    "ax2.fill_between(df_volume.index.map(mdates.date2num), df_volume.values) # converted dates as index, volume as y-axis\n",
    "ax1.grid(True, color=\"lightgray\") #changes gridcolor\n",
    "plt.show()"
   ]
  },
  {
   "cell_type": "markdown",
   "metadata": {},
   "source": [
    "### Webscraping"
   ]
  },
  {
   "cell_type": "code",
   "execution_count": 2,
   "metadata": {},
   "outputs": [],
   "source": [
    "#Load ticker names\n",
    "import bs4 as bs\n",
    "import requests\n",
    "import pickle\n",
    "\n",
    "def lade_sp500_ticker():\n",
    "    response = requests.get(\"https://en.wikipedia.org/wiki/list_of_S%26P_500_companies\") #get sourcecode\n",
    "    soup = bs.BeautifulSoup(response.text, \"lxml\")\n",
    "    \n",
    "    tabelle = soup.find(\"table\")\n",
    "    tickers = []\n",
    "    \n",
    "    for reihe in tabelle.findAll(\"tr\")[1:]:\n",
    "        ticker = reihe.findAll(\"td\")[0].text.rstrip(\"\\n\")\n",
    "        tickers.append(ticker)\n",
    "    with open(\"sp500tickers.pickle\", \"wb\") as f: #serializes ticker data into pickle file\n",
    "        pickle.dump(tickers, f)\n",
    "    return tickers\n",
    "\n",
    "\n",
    "#lade_sp500_ticker()"
   ]
  },
  {
   "cell_type": "code",
   "execution_count": 3,
   "metadata": {},
   "outputs": [],
   "source": [
    "#Load prices from yahoo\n",
    "def lade_preise_von_yahoo(ticker_neuladen=False):\n",
    "    if ticker_neuladen:\n",
    "        tickers = lade_sp500_ticker() #loads ticker names again from wikipedia\n",
    "    else:\n",
    "        with open (\"sp500tickers\", \"rb\") as f: #grabs existing ticker names from local folder\n",
    "            tickers = pickle.load(f)\n",
    "\n",
    "    if not os.path.exists(\"kursdaten\"): #creates new folder if not already existing\n",
    "        os.makedirs(\"kursdaten\")\n",
    "    \n",
    "    start = dt.datetime(2010,1,1)\n",
    "    end = dt.datetime(2019,12,31)\n",
    "\n",
    "    for ticker in tickers:\n",
    "        if not os.path.exists(\"kursdaten/{}.csv\".format(ticker)):\n",
    "            print(\"{} wird geladen...\".format(ticker))\n",
    "            try:\n",
    "                df = web.DataReader(ticker, \"yahoo\", start, end)\n",
    "                df.to_csv(\"kursdaten/{}.csv\".format(ticker))\n",
    "            except:\n",
    "                print(\"{} nicht vorhanden.\".format(ticker))\n",
    "        else:\n",
    "            print(\"{} bereits vorhanden!\".format(ticker))\n"
   ]
  },
  {
   "cell_type": "code",
   "execution_count": 8,
   "metadata": {},
   "outputs": [],
   "source": [
    "#combine all csv into one big file\n",
    "def daten_kompilieren():\n",
    "    with open(\"sp500tickers.pickle\", \"rb\") as f:\n",
    "        tickers = pickle.load(f)\n",
    "    main_df = pd.DataFrame()\n",
    "    \n",
    "    print(\"Daten werden kompiliert...\")\n",
    "    for ticker in tickers:\n",
    "        try:\n",
    "            df = pd.read_csv(\"kursdaten/{}.csv\".format(ticker))\n",
    "            df.set_index(\"Date\", inplace=True)\n",
    "        \n",
    "            df.rename(columns = {\"Adj Close\": ticker}, inplace=True)\n",
    "            df.drop([\"Open\",\"High\",\"Low\",\"Close\",\"Volume\"], 1, inplace=True)\n",
    "        except:\n",
    "            pass\n",
    "        if main_df.empty:\n",
    "            main_df = df\n",
    "        else:\n",
    "            try:\n",
    "                main_df = main_df.join(df, how=\"outer\")\n",
    "            except:\n",
    "                pass\n",
    "            \n",
    "    main_df.to_csv(\"sp500_daten.csv\")\n",
    "    print(\"Daten kompiliert.\")"
   ]
  },
  {
   "cell_type": "code",
   "execution_count": 9,
   "metadata": {},
   "outputs": [
    {
     "name": "stdout",
     "output_type": "stream",
     "text": [
      "Daten werden kompiliert...\n",
      "Daten kompiliert.\n"
     ]
    }
   ],
   "source": [
    "lade_preise_von_yahoo(ticker_neuladen=True)\n",
    "daten_kompilieren()"
   ]
  },
  {
   "cell_type": "markdown",
   "metadata": {},
   "source": [
    "### Visuals"
   ]
  },
  {
   "cell_type": "code",
   "execution_count": 2,
   "metadata": {
    "scrolled": true
   },
   "outputs": [
    {
     "data": {
      "image/png": "[encoded data removed]",
      "text/plain": [
       "<Figure size 432x288 with 1 Axes>"
      ]
     },
     "metadata": {
      "needs_background": "light"
     },
     "output_type": "display_data"
    }
   ],
   "source": [
    "sp500 = pd.read_csv(\"sp500_daten.csv\")\n",
    "sp500[\"MSFT\"].plot()\n",
    "plt.show()"
   ]
  },
  {
   "cell_type": "code",
   "execution_count": 55,
   "metadata": {},
   "outputs": [
    {
     "name": "stdout",
     "output_type": "stream",
     "text": [
      "            MMM       ABT      ABBV      ABMD       ACN      ATVI      ADBE  \\\n",
      "MMM    1.000000  0.822141  0.911094  0.825415  0.891598  0.929977  0.826965   \n",
      "ABT    0.822141  1.000000  0.789407  0.842906  0.966075  0.805016  0.967697   \n",
      "ABBV   0.911094  0.789407  1.000000  0.878404  0.862537  0.904558  0.858206   \n",
      "ABMD   0.825415  0.842906  0.878404  1.000000  0.875561  0.895261  0.915947   \n",
      "ACN    0.891598  0.966075  0.862537  0.875561  1.000000  0.898829  0.970270   \n",
      "ATVI   0.929977  0.805016  0.904558  0.895261  0.898829  1.000000  0.870603   \n",
      "ADBE   0.826965  0.967697  0.858206  0.915947  0.970270  0.870603  1.000000   \n",
      "AMD    0.510987  0.799704  0.684780  0.703513  0.774082  0.620030  0.860455   \n",
      "AAP    0.735548  0.700772  0.281128  0.564654  0.713753  0.594572  0.614774   \n",
      "AES    0.510070  0.830718  0.467542  0.617714  0.733379  0.472478  0.794491   \n",
      "AFL    0.890850  0.962250  0.855821  0.871021  0.981722  0.884885  0.971852   \n",
      "A      0.906922  0.945147  0.893826  0.871942  0.966001  0.894332  0.959544   \n",
      "APD    0.862841  0.966032  0.788640  0.799087  0.974225  0.832314  0.946510   \n",
      "AKAM   0.744482  0.832843  0.605091  0.672599  0.809962  0.675990  0.783584   \n",
      "ALK    0.886644  0.695415  0.520330  0.616866  0.779354  0.789211  0.658012   \n",
      "ALB    0.842199  0.568269  0.677762  0.681544  0.692526  0.841376  0.630973   \n",
      "ARE    0.874076  0.940343  0.845789  0.851903  0.974191  0.885164  0.957938   \n",
      "ALXN   0.569327  0.444924 -0.202022  0.256343  0.426562  0.363771  0.289279   \n",
      "ALGN   0.834365  0.878653  0.906171  0.956002  0.908077  0.907462  0.946047   \n",
      "ALLE   0.693120  0.912238  0.768573  0.715323  0.963565  0.733380  0.929909   \n",
      "LNT    0.908977  0.944864  0.817012  0.825774  0.980598  0.883167  0.935104   \n",
      "ALL    0.946948  0.938606  0.902607  0.836871  0.969827  0.913801  0.927399   \n",
      "GOOGL  0.933881  0.935705  0.897130  0.885004  0.980879  0.936220  0.951333   \n",
      "GOOG   0.929565  0.939838  0.897061  0.887195  0.982650  0.934235  0.956411   \n",
      "MO     0.941257  0.708963  0.677531  0.705826  0.817705  0.868343  0.702031   \n",
      "AMZN   0.836509  0.945253  0.865474  0.941751  0.967896  0.894484  0.990205   \n",
      "AMCR   0.878041  0.665479  0.729333  0.634224  0.788784  0.794464  0.713869   \n",
      "AEE    0.883597  0.962415  0.808946  0.852118  0.983587  0.869831  0.960032   \n",
      "AAL    0.873250  0.599428  0.487411  0.545158  0.658685  0.724606  0.546926   \n",
      "AEP    0.888607  0.955721  0.781862  0.805980  0.977057  0.853035  0.934090   \n",
      "AXP    0.813843  0.944209  0.710681  0.757124  0.902808  0.753488  0.889967   \n",
      "AIG    0.837442  0.632335  0.423763  0.510887  0.710327  0.728711  0.580956   \n",
      "AMT    0.821542  0.978505  0.757043  0.805660  0.972716  0.813500  0.959774   \n",
      "AWK    0.875281  0.952667  0.784403  0.822721  0.984368  0.862684  0.946572   \n",
      "AMP    0.934406  0.874611  0.872216  0.746901  0.894270  0.855197  0.836620   \n",
      "ABC    0.862114  0.735147  0.563039  0.612795  0.762545  0.733588  0.652865   \n",
      "AME    0.874219  0.968060  0.836300  0.812041  0.962687  0.838660  0.931813   \n",
      "AMGN   0.934698  0.917501  0.876608  0.802679  0.941483  0.876046  0.878529   \n",
      "APH    0.946496  0.946712  0.919618  0.875761  0.980378  0.922275  0.949233   \n",
      "ADI    0.889608  0.964923  0.850916  0.869724  0.985156  0.885055  0.970755   \n",
      "ANSS   0.804874  0.972012  0.816234  0.852895  0.969980  0.841284  0.977225   \n",
      "ANTM   0.889124  0.966802  0.887288  0.911160  0.968007  0.880980  0.974350   \n",
      "AON    0.892007  0.972047  0.827754  0.835758  0.985309  0.868120  0.959924   \n",
      "AOS    0.979826  0.818316  0.890114  0.837580  0.909789  0.955412  0.840051   \n",
      "APA   -0.827796 -0.856265 -0.728581 -0.746530 -0.881378 -0.799595 -0.817149   \n",
      "AIV    0.891779  0.925150  0.746756  0.784507  0.958849  0.841382  0.898648   \n",
      "AAPL   0.860505  0.956947  0.870256  0.855536  0.966111  0.881979  0.952635   \n",
      "AMAT   0.898751  0.860297  0.889866  0.819724  0.919132  0.925493  0.905846   \n",
      "APTV   0.916160  0.847455  0.916734  0.796962  0.892647  0.885474  0.860765   \n",
      "ADM    0.863046  0.761636  0.650642  0.680982  0.771358  0.747971  0.712543   \n",
      "ANET   0.804534  0.845770  0.890380  0.887015  0.884028  0.801434  0.922296   \n",
      "\n",
      "            AMD       AAP       AES  ...      ANTM       AON       AOS  \\\n",
      "MMM    0.510987  0.735548  0.510070  ...  0.889124  0.892007  0.979826   \n",
      "ABT    0.799704  0.700772  0.830718  ...  0.966802  0.972047  0.818316   \n",
      "ABBV   0.684780  0.281128  0.467542  ...  0.887288  0.827754  0.890114   \n",
      "ABMD   0.703513  0.564654  0.617714  ...  0.911160  0.835758  0.837580   \n",
      "ACN    0.774082  0.713753  0.733379  ...  0.968007  0.985309  0.909789   \n",
      "ATVI   0.620030  0.594572  0.472478  ...  0.880980  0.868120  0.955412   \n",
      "ADBE   0.860455  0.614774  0.794491  ...  0.974350  0.959924  0.840051   \n",
      "AMD    1.000000  0.331382  0.817010  ...  0.785857  0.776691  0.534615   \n",
      "AAP    0.331382  1.000000  0.520873  ...  0.697519  0.731792  0.715096   \n",
      "AES    0.817010  0.520873  1.000000  ...  0.760765  0.773587  0.482888   \n",
      "AFL    0.790818  0.683247  0.769192  ...  0.966235  0.986080  0.900514   \n",
      "A      0.783536  0.640450  0.761466  ...  0.966238  0.971593  0.901458   \n",
      "APD    0.773995  0.748413  0.778890  ...  0.952826  0.986986  0.868690   \n",
      "AKAM   0.560059  0.806753  0.669738  ...  0.807199  0.827979  0.741988   \n",
      "ALK    0.350860  0.862988  0.363878  ...  0.748255  0.794541  0.890015   \n",
      "ALB    0.416957  0.375610  0.298779  ...  0.669581  0.678928  0.840052   \n",
      "ARE    0.812458  0.670952  0.728221  ...  0.957226  0.973327  0.893341   \n",
      "ALXN  -0.084491  0.783610  0.241090  ...  0.404946  0.461912  0.516717   \n",
      "ALGN   0.774203  0.517024  0.674566  ...  0.923880  0.875664  0.846596   \n",
      "ALLE   0.922036  0.130517  0.684305  ...  0.910532  0.974813  0.732917   \n",
      "LNT    0.731132  0.751928  0.720017  ...  0.946975  0.986279  0.917754   \n",
      "ALL    0.683778  0.735149  0.676182  ...  0.951270  0.975675  0.946233   \n",
      "GOOGL  0.722972  0.728137  0.684438  ...  0.958452  0.971194  0.946929   \n",
      "GOOG   0.733523  0.718512  0.693591  ...  0.960572  0.972731  0.942448   \n",
      "MO     0.380118  0.795513  0.356317  ...  0.779898  0.809507  0.944015   \n",
      "AMZN   0.838455  0.612894  0.746550  ...  0.963998  0.943945  0.859424   \n",
      "AMCR   0.593187  0.459812  0.432848  ...  0.754867  0.814396  0.884472   \n",
      "AEE    0.785438  0.723938  0.759616  ...  0.963869  0.987698  0.889707   \n",
      "AAL    0.160646  0.783176  0.264766  ...  0.656488  0.685433  0.834340   \n",
      "AEP    0.737670  0.758644  0.738220  ...  0.946947  0.986892  0.892888   \n",
      "AXP    0.687712  0.700128  0.811497  ...  0.899418  0.924948  0.788844   \n",
      "AIG    0.260897  0.785427  0.329748  ...  0.654594  0.733741  0.841600   \n",
      "AMT    0.818083  0.675582  0.807839  ...  0.946970  0.981200  0.831611   \n",
      "AWK    0.770152  0.726632  0.738200  ...  0.946635  0.985230  0.891289   \n",
      "AMP    0.555015  0.753435  0.625015  ...  0.888518  0.914255  0.910572   \n",
      "ABC    0.292122  0.885455  0.425615  ...  0.759855  0.782264  0.839765   \n",
      "AME    0.707126  0.731627  0.768955  ...  0.942094  0.967266  0.871153   \n",
      "AMGN   0.604377  0.834708  0.651591  ...  0.922424  0.949086  0.928544   \n",
      "APH    0.720954  0.732178  0.706401  ...  0.968351  0.980700  0.947729   \n",
      "ADI    0.793614  0.685399  0.758520  ...  0.970760  0.983831  0.904214   \n",
      "ANSS   0.841409  0.607407  0.801803  ...  0.949241  0.958802  0.825847   \n",
      "ANTM   0.785857  0.697519  0.760765  ...  1.000000  0.968081  0.879089   \n",
      "AON    0.776691  0.731792  0.773587  ...  0.968081  1.000000  0.895949   \n",
      "AOS    0.534615  0.715096  0.482888  ...  0.879089  0.895949  1.000000   \n",
      "APA   -0.543700 -0.744675 -0.501458  ... -0.850710 -0.869154 -0.850361   \n",
      "AIV    0.696756  0.805425  0.700147  ...  0.926231  0.968684  0.900417   \n",
      "AAPL   0.783031  0.694328  0.738989  ...  0.956465  0.959553  0.871090   \n",
      "AMAT   0.728788  0.526846  0.612633  ...  0.898694  0.917327  0.916039   \n",
      "APTV   0.646768  0.611590  0.546449  ...  0.898676  0.897334  0.913014   \n",
      "ADM    0.420092  0.854395  0.601501  ...  0.789068  0.806609  0.822307   \n",
      "ANET   0.777962 -0.211246  0.622645  ...  0.918792  0.845630  0.773452   \n",
      "\n",
      "            APA       AIV      AAPL      AMAT      APTV       ADM      ANET  \n",
      "MMM   -0.827796  0.891779  0.860505  0.898751  0.916160  0.863046  0.804534  \n",
      "ABT   -0.856265  0.925150  0.956947  0.860297  0.847455  0.761636  0.845770  \n",
      "ABBV  -0.728581  0.746756  0.870256  0.889866  0.916734  0.650642  0.890380  \n",
      "ABMD  -0.746530  0.784507  0.855536  0.819724  0.796962  0.680982  0.887015  \n",
      "ACN   -0.881378  0.958849  0.966111  0.919132  0.892647  0.771358  0.884028  \n",
      "ATVI  -0.799595  0.841382  0.881979  0.925493  0.885474  0.747971  0.801434  \n",
      "ADBE  -0.817149  0.898648  0.952635  0.905846  0.860765  0.712543  0.922296  \n",
      "AMD   -0.543700  0.696756  0.783031  0.728788  0.646768  0.420092  0.777962  \n",
      "AAP   -0.744675  0.805425  0.694328  0.526846  0.611590  0.854395 -0.211246  \n",
      "AES   -0.501458  0.700147  0.738989  0.612633  0.546449  0.601501  0.622645  \n",
      "AFL   -0.842626  0.943926  0.944720  0.927751  0.896036  0.782361  0.899637  \n",
      "A     -0.802506  0.925244  0.946237  0.945879  0.896823  0.777610  0.928144  \n",
      "APD   -0.851576  0.963893  0.952244  0.901005  0.886394  0.803661  0.781482  \n",
      "AKAM  -0.734407  0.817540  0.812140  0.717434  0.833081  0.841605  0.484723  \n",
      "ALK   -0.821977  0.860389  0.748644  0.729326  0.773497  0.838137 -0.020802  \n",
      "ALB   -0.552201  0.668256  0.665527  0.814327  0.627498  0.613191  0.561024  \n",
      "ARE   -0.844823  0.960975  0.956117  0.935311  0.869512  0.745909  0.847504  \n",
      "ALXN  -0.533457  0.524916  0.445241  0.304668  0.293302  0.724077 -0.650489  \n",
      "ALGN  -0.738881  0.803752  0.904415  0.890035  0.835504  0.684968  0.942409  \n",
      "ALLE  -0.808876  0.934887  0.931942  0.848613  0.814064  0.329401  0.799023  \n",
      "LNT   -0.888028  0.983616  0.948835  0.913188  0.877028  0.804807  0.804771  \n",
      "ALL   -0.879540  0.954117  0.954426  0.939905  0.949192  0.848595  0.902266  \n",
      "GOOGL -0.874461  0.946315  0.949889  0.932564  0.927424  0.805896  0.906697  \n",
      "GOOG  -0.871227  0.944334  0.952184  0.935295  0.925017  0.799964  0.911569  \n",
      "MO    -0.827092  0.869791  0.780564  0.789299  0.780310  0.815702  0.318622  \n",
      "AMZN  -0.817423  0.892021  0.940480  0.895706  0.842597  0.696239  0.931480  \n",
      "AMCR  -0.686443  0.834696  0.701677  0.833482  0.805313  0.688359  0.587398  \n",
      "AEE   -0.878443  0.972834  0.952489  0.904324  0.853038  0.770881  0.839881  \n",
      "AAL   -0.699435  0.723797  0.649908  0.679174  0.745285  0.861836 -0.123159  \n",
      "AEP   -0.897912  0.984433  0.944253  0.892955  0.861833  0.788489  0.778440  \n",
      "AXP   -0.765811  0.863281  0.902991  0.828873  0.835349  0.822978  0.828519  \n",
      "AIG   -0.704686  0.782054  0.675574  0.701748  0.771657  0.841402 -0.109659  \n",
      "AMT   -0.856219  0.951512  0.950184  0.887438  0.817813  0.724561  0.808528  \n",
      "AWK   -0.884759  0.978756  0.945110  0.901499  0.843685  0.756402  0.786582  \n",
      "AMP   -0.797416  0.885425  0.895635  0.890551  0.954520  0.906031  0.797044  \n",
      "ABC   -0.803810  0.821000  0.755026  0.681102  0.825731  0.894165 -0.020233  \n",
      "AME   -0.846551  0.924449  0.954394  0.886942  0.917149  0.818638  0.885954  \n",
      "AMGN  -0.904536  0.953582  0.928472  0.863769  0.937716  0.886300  0.782597  \n",
      "APH   -0.866611  0.956602  0.962312  0.943887  0.942107  0.840824  0.935112  \n",
      "ADI   -0.851083  0.949829  0.964012  0.937777  0.899888  0.778119  0.902947  \n",
      "ANSS  -0.823300  0.898106  0.963876  0.904141  0.841110  0.699762  0.879104  \n",
      "ANTM  -0.850710  0.926231  0.956465  0.898694  0.898676  0.789068  0.918792  \n",
      "AON   -0.869154  0.968684  0.959553  0.917327  0.897334  0.806609  0.845630  \n",
      "AOS   -0.850361  0.900417  0.871090  0.916039  0.913014  0.822307  0.773452  \n",
      "APA    1.000000 -0.888286 -0.850333 -0.768342 -0.803680 -0.683667 -0.609426  \n",
      "AIV   -0.888286  1.000000  0.925222  0.867072  0.855574  0.810635  0.704811  \n",
      "AAPL  -0.850333  0.925222  1.000000  0.908528  0.878745  0.781713  0.852798  \n",
      "AMAT  -0.768342  0.867072  0.908528  1.000000  0.890339  0.726792  0.840340  \n",
      "APTV  -0.803680  0.855574  0.878745  0.890339  1.000000  0.824109  0.867066  \n",
      "ADM   -0.683667  0.810635  0.781713  0.726792  0.824109  1.000000  0.367953  \n",
      "ANET  -0.609426  0.704811  0.852798  0.840340  0.867066  0.367953  1.000000  \n",
      "\n",
      "[51 rows x 51 columns]\n"
     ]
    }
   ],
   "source": [
    "#correlation matrix\n",
    "korrelation = sp500.corr()\n",
    "print(korrelation.iloc[0:51,0:51])\n",
    "korrelation = korrelation.iloc[0:51,0:51]"
   ]
  },
  {
   "cell_type": "code",
   "execution_count": 43,
   "metadata": {},
   "outputs": [
    {
     "data": {
      "text/plain": [
       "0.9902205685293355"
      ]
     },
     "execution_count": 43,
     "metadata": {},
     "output_type": "execute_result"
    }
   ],
   "source": [
    "korrelation.loc[\"APH\",\"ALL\"] #one single dot in matrix with high correlation"
   ]
  },
  {
   "cell_type": "code",
   "execution_count": 58,
   "metadata": {},
   "outputs": [
    {
     "data": {
      "text/plain": [
       "<matplotlib.axes._subplots.AxesSubplot at 0x7f89028386d0>"
      ]
     },
     "execution_count": 58,
     "metadata": {},
     "output_type": "execute_result"
    },
    {
     "data": {
      "image/png": "[encoded data removed]",
      "text/plain": [
       "<Figure size 1800x1800 with 2 Axes>"
      ]
     },
     "metadata": {
      "needs_background": "light"
     },
     "output_type": "display_data"
    }
   ],
   "source": [
    "#plot\n",
    "plt.rcParams['figure.figsize'] = [25, 25]\n",
    "sns.heatmap(korrelation.iloc[0:51, 0:51])"
   ]
  },
  {
   "cell_type": "markdown",
   "metadata": {},
   "source": [
    "## Trendlines"
   ]
  },
  {
   "cell_type": "code",
   "execution_count": 6,
   "metadata": {},
   "outputs": [
    {
     "data": {
      "image/png": "[encoded data removed]",
      "text/plain": [
       "<Figure size 432x288 with 1 Axes>"
      ]
     },
     "metadata": {
      "needs_background": "light"
     },
     "output_type": "display_data"
    }
   ],
   "source": [
    "#preparing the data\n",
    "daten = sp500[\"AAPL\"] #using only AAPL data\n",
    "x = list(range(0, len(daten.index.tolist()), 1)) # converting dates into numbers\n",
    "\n",
    "#1D linear regression model of x and daten\n",
    "fit = np.polyfit(x, daten.values, 1)\n",
    "fit1d = np.poly1d(fit)\n",
    "\n",
    "#plot\n",
    "plt.grid(True)\n",
    "plt.plot(daten.index, daten.values, \"b\", daten.index, fit1d(x), \"r\")\n",
    "plt.show()"
   ]
  },
  {
   "cell_type": "code",
   "execution_count": null,
   "metadata": {},
   "outputs": [],
   "source": []
  }
 ],
 "metadata": {
  "kernelspec": {
   "display_name": "Python 3",
   "language": "python",
   "name": "python3"
  },
  "language_info": {
   "codemirror_mode": {
    "name": "ipython",
    "version": 3
   },
   "file_extension": ".py",
   "mimetype": "text/x-python",
   "name": "python",
   "nbconvert_exporter": "python",
   "pygments_lexer": "ipython3",
   "version": "3.7.6"
  }
 },
 "nbformat": 4,
 "nbformat_minor": 4
}
